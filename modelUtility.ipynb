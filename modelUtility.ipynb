{
  "nbformat": 4,
  "nbformat_minor": 0,
  "metadata": {
    "colab": {
      "name": "modelUtility.ipynb",
      "provenance": [],
      "collapsed_sections": [],
      "authorship_tag": "ABX9TyOHK3foJsLzNY3YKxROj75l"
    },
    "kernelspec": {
      "name": "python3",
      "display_name": "Python 3"
    },
    "language_info": {
      "name": "python"
    }
  },
  "cells": [
    {
      "cell_type": "code",
      "metadata": {
        "id": "9WNOHJgObjhH"
      },
      "source": [
        "import pandas as pd\n",
        "from sklearn.metrics import confusion_matrix\n",
        "import seaborn as sns\n",
        "from sklearn.metrics import confusion_matrix"
      ],
      "execution_count": 1,
      "outputs": []
    },
    {
      "cell_type": "code",
      "metadata": {
        "id": "CTImMnpCNvjL"
      },
      "source": [
        "def predictionFunction(X_test,dataCopy,model,labels):\n",
        "  import numpy as np\n",
        "  pred_df = pd.DataFrame()\n",
        "  pred = model.predict(X_test)\n",
        "  pred_df['tweets'] = dataCopy.text.iloc[int(len(dataCopy)*0.8):]\n",
        "  pred_df['actual'] = dataCopy.airline_sentiment.iloc[int(len(dataCopy)*0.8):]\n",
        "  pred_df['predicted'] = None\n",
        "  for i in range(len(X_test)):\n",
        "    pred_df.predicted.iloc[i] = labels[np.argmax(pred[i])]\n",
        "  pred_df.to_csv(\"predictions.csv\")"
      ],
      "execution_count": 2,
      "outputs": []
    },
    {
      "cell_type": "code",
      "metadata": {
        "id": "Zq2gqo35OL0Z"
      },
      "source": [
        "\n",
        "def plot_confusion_matrix(model, X_test, y_test):\n",
        "    import numpy as np\n",
        "    import pandas as pd\n",
        "    from sklearn.metrics import confusion_matrix\n",
        "    import seaborn as sns\n",
        "    from sklearn.metrics import confusion_matrix\n",
        "    import matplotlib.pyplot as plt\n",
        "    sentiment_classes = ['positive', 'negative', 'neutral']\n",
        "    # use model to do the prediction\n",
        "    y_pred = model.predict(X_test)\n",
        "    cm = confusion_matrix(np.argmax(np.array(y_test),axis=1), np.argmax(y_pred, axis=1))\n",
        "    plt.figure(figsize=(8,6))\n",
        "    sns.heatmap(cm, cmap=plt.cm.Blues, annot=True, fmt='d', \n",
        "                xticklabels=sentiment_classes,\n",
        "                yticklabels=sentiment_classes)\n",
        "    plt.title('Confusion matrix', fontsize=16)\n",
        "    plt.xlabel('Actual label', fontsize=12)\n",
        "    plt.ylabel('Predicted label', fontsize=12)\n",
        "    return cm\n",
        "    \n",
        "def confusionMatrix(model, X_test, y_test):\n",
        " \n",
        "  cm = plot_confusion_matrix(model, X_test, y_test)\n",
        "  print('Confusion matrix: ')\n",
        "  print(cm)\n",
        "  print('Prediction Accuracy: ')\n",
        "  print('Accuracy of Positive class in % : ')\n",
        "  print((cm[0][0]/(cm[0][0]+cm[0][1]+cm[0][2]))*100)\n",
        "  print('Accuracy of Negative class in %: ')\n",
        "  print((cm[1][1]/(cm[1][1]+cm[1][0]+cm[1][2]))*100)\n",
        "  print('Accuracy of Neutral class in %')\n",
        "  print((cm[2][2]/(cm[2][2]+cm[2][0]+cm[2][1]))*100)"
      ],
      "execution_count": null,
      "outputs": []
    }
  ]
}