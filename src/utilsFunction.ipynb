{
  "nbformat": 4,
  "nbformat_minor": 0,
  "metadata": {
    "colab": {
      "name": "utilsFunction.ipynb",
      "provenance": [],
      "authorship_tag": "ABX9TyNNjUIvqGDXWPYbJhjrMoE0",
      "include_colab_link": true
    },
    "kernelspec": {
      "name": "python3",
      "display_name": "Python 3"
    },
    "language_info": {
      "name": "python"
    }
  },
  "cells": [
    {
      "cell_type": "markdown",
      "metadata": {
        "id": "view-in-github",
        "colab_type": "text"
      },
      "source": [
        "<a href=\"https://colab.research.google.com/github/anjaliasha123/AirlineTweetClassification/blob/main/src/utilsFunction.ipynb\" target=\"_parent\"><img src=\"https://colab.research.google.com/assets/colab-badge.svg\" alt=\"Open In Colab\"/></a>"
      ]
    },
    {
      "cell_type": "code",
      "metadata": {
        "colab": {
          "base_uri": "https://localhost:8080/"
        },
        "id": "wUYhewpkqD01",
        "outputId": "06b3bc6b-9b44-4ad7-c67f-7f924a52cabc"
      },
      "source": [
        "from google.colab import drive\n",
        "drive.mount('/content/gdrive')"
      ],
      "execution_count": null,
      "outputs": [
        {
          "output_type": "stream",
          "name": "stdout",
          "text": [
            "Mounted at /content/gdrive\n"
          ]
        }
      ]
    },
    {
      "cell_type": "code",
      "metadata": {
        "id": "USP3oJJrqoKf"
      },
      "source": [
        "import os\n",
        "import sys\n",
        "import numpy as np\n",
        "import pandas as pd\n",
        "import matplotlib.pyplot as plt"
      ],
      "execution_count": null,
      "outputs": []
    },
    {
      "cell_type": "code",
      "metadata": {
        "id": "Dutvc_GcwUuZ"
      },
      "source": [
        "most_common = 20000\n",
        "max_len = 100\n",
        "epochs = 10\n",
        "embed_dim = 100\n",
        "batch_size = 50"
      ],
      "execution_count": null,
      "outputs": []
    },
    {
      "cell_type": "code",
      "metadata": {
        "id": "Jmmf8H1CLItE"
      },
      "source": [
        "from tensorflow.keras.preprocessing.text import Tokenizer\n",
        "from tensorflow.keras.preprocessing.sequence import pad_sequences\n",
        "\n",
        "def dataPreprocessing(most_common,X):\n",
        "\n",
        "  tok = Tokenizer(num_words = most_common,filters='!\"#$%&()*+,-./:;<=>?@[\\\\]^_`{|}~\\t\\n', lower=True)\n",
        "  tok.fit_on_texts(X.text.values)\n",
        "  sequences = tok.texts_to_sequences(X.text.values)\n",
        "  word_index = tok.word_index\n",
        "  print('Found %s unique tokens.' % len(word_index))\n",
        "  paddedX = pad_sequences(sequences, maxlen = max_len)\n",
        "  return paddedX, len(word_index), word_index\n",
        "\n",
        "def createEmbeddingMatrix(word_index):\n",
        "  word2vec = {}\n",
        "  with open(os.path.join('/content/gdrive/My Drive/glove.6B.100d.txt'),encoding='utf8') as f:\n",
        "      for line in f:\n",
        "          values = line.rstrip().rsplit(' ')\n",
        "          word = values[0]\n",
        "          coefs = np.asarray(values[1:], dtype='float32')\n",
        "          word2vec[word] = coefs\n",
        "  num_of_words = min(most_common, len(word_index)+1)\n",
        "  embedding_matrix = np.zeros((num_of_words,embed_dim))\n",
        "  for word,i in word_index.items():\n",
        "      if i < num_of_words:\n",
        "          embedd_vec = word2vec.get(word)\n",
        "          if embedd_vec is not None:\n",
        "              embedding_matrix[i] = embedd_vec\n",
        "  return embedding_matrix, num_of_words"
      ],
      "execution_count": null,
      "outputs": []
    }
  ]
}