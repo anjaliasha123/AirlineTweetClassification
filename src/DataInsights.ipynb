{
  "nbformat": 4,
  "nbformat_minor": 0,
  "metadata": {
    "colab": {
      "name": "DataInsights.ipynb",
      "provenance": [],
      "authorship_tag": "ABX9TyMCNrzLZ09tlpDhCOEMTZCl"
    },
    "kernelspec": {
      "name": "python3",
      "display_name": "Python 3"
    },
    "language_info": {
      "name": "python"
    }
  },
  "cells": [
    {
      "cell_type": "markdown",
      "metadata": {
        "id": "IByJHlaYzRnd"
      },
      "source": [
        "Initial libraries"
      ]
    },
    {
      "cell_type": "code",
      "metadata": {
        "id": "yFLwy5p0y_5_"
      },
      "source": [
        "import os\n",
        "import sys\n",
        "import numpy as np\n",
        "import pandas as pd\n",
        "import matplotlib.pyplot as plt"
      ],
      "execution_count": 1,
      "outputs": []
    },
    {
      "cell_type": "markdown",
      "metadata": {
        "id": "mPmh-u6PzXyF"
      },
      "source": [
        "#Loading the dataset"
      ]
    },
    {
      "cell_type": "code",
      "metadata": {
        "colab": {
          "base_uri": "https://localhost:8080/",
          "height": 142
        },
        "id": "5NVfkW2qzWZq",
        "outputId": "f8bf5974-e57d-43f6-b6d8-2c54548bb571"
      },
      "source": [
        "data = pd.read_csv('https://raw.githubusercontent.com/anjaliasha123/Data_Visualization_projects/master/Streamlit_python/Tweets.csv', usecols=['text','airline_sentiment','airline'])\n",
        "data.head(3)"
      ],
      "execution_count": 2,
      "outputs": [
        {
          "output_type": "execute_result",
          "data": {
            "text/html": [
              "<div>\n",
              "<style scoped>\n",
              "    .dataframe tbody tr th:only-of-type {\n",
              "        vertical-align: middle;\n",
              "    }\n",
              "\n",
              "    .dataframe tbody tr th {\n",
              "        vertical-align: top;\n",
              "    }\n",
              "\n",
              "    .dataframe thead th {\n",
              "        text-align: right;\n",
              "    }\n",
              "</style>\n",
              "<table border=\"1\" class=\"dataframe\">\n",
              "  <thead>\n",
              "    <tr style=\"text-align: right;\">\n",
              "      <th></th>\n",
              "      <th>airline_sentiment</th>\n",
              "      <th>airline</th>\n",
              "      <th>text</th>\n",
              "    </tr>\n",
              "  </thead>\n",
              "  <tbody>\n",
              "    <tr>\n",
              "      <th>0</th>\n",
              "      <td>neutral</td>\n",
              "      <td>Virgin America</td>\n",
              "      <td>@VirginAmerica What @dhepburn said.</td>\n",
              "    </tr>\n",
              "    <tr>\n",
              "      <th>1</th>\n",
              "      <td>positive</td>\n",
              "      <td>Virgin America</td>\n",
              "      <td>@VirginAmerica plus you've added commercials t...</td>\n",
              "    </tr>\n",
              "    <tr>\n",
              "      <th>2</th>\n",
              "      <td>neutral</td>\n",
              "      <td>Virgin America</td>\n",
              "      <td>@VirginAmerica I didn't today... Must mean I n...</td>\n",
              "    </tr>\n",
              "  </tbody>\n",
              "</table>\n",
              "</div>"
            ],
            "text/plain": [
              "  airline_sentiment  ...                                               text\n",
              "0           neutral  ...                @VirginAmerica What @dhepburn said.\n",
              "1          positive  ...  @VirginAmerica plus you've added commercials t...\n",
              "2           neutral  ...  @VirginAmerica I didn't today... Must mean I n...\n",
              "\n",
              "[3 rows x 3 columns]"
            ]
          },
          "metadata": {},
          "execution_count": 2
        }
      ]
    },
    {
      "cell_type": "markdown",
      "metadata": {
        "id": "zfDpNRMv0Y5R"
      },
      "source": [
        "Total number of tweets in the dataset - we have total 14,640 tweets in total"
      ]
    },
    {
      "cell_type": "code",
      "metadata": {
        "colab": {
          "base_uri": "https://localhost:8080/"
        },
        "id": "pdDhoSvj0TUi",
        "outputId": "7319fcfc-0045-4143-b3ee-cbafa92e5879"
      },
      "source": [
        "data.airline.count()"
      ],
      "execution_count": 6,
      "outputs": [
        {
          "output_type": "execute_result",
          "data": {
            "text/plain": [
              "14640"
            ]
          },
          "metadata": {},
          "execution_count": 6
        }
      ]
    },
    {
      "cell_type": "markdown",
      "metadata": {
        "id": "E3s936kh0D9D"
      },
      "source": [
        "Count of tweets per sentiment :\n",
        "\n",
        "This dataset is highly imbalanced with more number of negative tweets than positive and neutral tweets. This may have an effect on the model that it will be trained. Hence, the dataset need to be made into a balanced dataset before usage"
      ]
    },
    {
      "cell_type": "code",
      "metadata": {
        "colab": {
          "base_uri": "https://localhost:8080/"
        },
        "id": "qAD3UIX5z3PU",
        "outputId": "63771a59-92ca-44a8-9afb-5e9c8ff621e2"
      },
      "source": [
        "data.airline_sentiment.value_counts()"
      ],
      "execution_count": 4,
      "outputs": [
        {
          "output_type": "execute_result",
          "data": {
            "text/plain": [
              "negative    9178\n",
              "neutral     3099\n",
              "positive    2363\n",
              "Name: airline_sentiment, dtype: int64"
            ]
          },
          "metadata": {},
          "execution_count": 4
        }
      ]
    },
    {
      "cell_type": "markdown",
      "metadata": {
        "id": "Zox6Trq11-GV"
      },
      "source": [
        "Viewing the counts of the tweet sentiments for each airline"
      ]
    },
    {
      "cell_type": "code",
      "metadata": {
        "colab": {
          "base_uri": "https://localhost:8080/",
          "height": 637
        },
        "id": "1lzjuz5D0dC3",
        "outputId": "ff32687b-86f0-417c-a6f4-95421869ec9f"
      },
      "source": [
        "in1 = data.groupby(by=['airline','airline_sentiment']).count()\n",
        "in1"
      ],
      "execution_count": 12,
      "outputs": [
        {
          "output_type": "execute_result",
          "data": {
            "text/html": [
              "<div>\n",
              "<style scoped>\n",
              "    .dataframe tbody tr th:only-of-type {\n",
              "        vertical-align: middle;\n",
              "    }\n",
              "\n",
              "    .dataframe tbody tr th {\n",
              "        vertical-align: top;\n",
              "    }\n",
              "\n",
              "    .dataframe thead th {\n",
              "        text-align: right;\n",
              "    }\n",
              "</style>\n",
              "<table border=\"1\" class=\"dataframe\">\n",
              "  <thead>\n",
              "    <tr style=\"text-align: right;\">\n",
              "      <th></th>\n",
              "      <th></th>\n",
              "      <th>text</th>\n",
              "    </tr>\n",
              "    <tr>\n",
              "      <th>airline</th>\n",
              "      <th>airline_sentiment</th>\n",
              "      <th></th>\n",
              "    </tr>\n",
              "  </thead>\n",
              "  <tbody>\n",
              "    <tr>\n",
              "      <th rowspan=\"3\" valign=\"top\">American</th>\n",
              "      <th>negative</th>\n",
              "      <td>1960</td>\n",
              "    </tr>\n",
              "    <tr>\n",
              "      <th>neutral</th>\n",
              "      <td>463</td>\n",
              "    </tr>\n",
              "    <tr>\n",
              "      <th>positive</th>\n",
              "      <td>336</td>\n",
              "    </tr>\n",
              "    <tr>\n",
              "      <th rowspan=\"3\" valign=\"top\">Delta</th>\n",
              "      <th>negative</th>\n",
              "      <td>955</td>\n",
              "    </tr>\n",
              "    <tr>\n",
              "      <th>neutral</th>\n",
              "      <td>723</td>\n",
              "    </tr>\n",
              "    <tr>\n",
              "      <th>positive</th>\n",
              "      <td>544</td>\n",
              "    </tr>\n",
              "    <tr>\n",
              "      <th rowspan=\"3\" valign=\"top\">Southwest</th>\n",
              "      <th>negative</th>\n",
              "      <td>1186</td>\n",
              "    </tr>\n",
              "    <tr>\n",
              "      <th>neutral</th>\n",
              "      <td>664</td>\n",
              "    </tr>\n",
              "    <tr>\n",
              "      <th>positive</th>\n",
              "      <td>570</td>\n",
              "    </tr>\n",
              "    <tr>\n",
              "      <th rowspan=\"3\" valign=\"top\">US Airways</th>\n",
              "      <th>negative</th>\n",
              "      <td>2263</td>\n",
              "    </tr>\n",
              "    <tr>\n",
              "      <th>neutral</th>\n",
              "      <td>381</td>\n",
              "    </tr>\n",
              "    <tr>\n",
              "      <th>positive</th>\n",
              "      <td>269</td>\n",
              "    </tr>\n",
              "    <tr>\n",
              "      <th rowspan=\"3\" valign=\"top\">United</th>\n",
              "      <th>negative</th>\n",
              "      <td>2633</td>\n",
              "    </tr>\n",
              "    <tr>\n",
              "      <th>neutral</th>\n",
              "      <td>697</td>\n",
              "    </tr>\n",
              "    <tr>\n",
              "      <th>positive</th>\n",
              "      <td>492</td>\n",
              "    </tr>\n",
              "    <tr>\n",
              "      <th rowspan=\"3\" valign=\"top\">Virgin America</th>\n",
              "      <th>negative</th>\n",
              "      <td>181</td>\n",
              "    </tr>\n",
              "    <tr>\n",
              "      <th>neutral</th>\n",
              "      <td>171</td>\n",
              "    </tr>\n",
              "    <tr>\n",
              "      <th>positive</th>\n",
              "      <td>152</td>\n",
              "    </tr>\n",
              "  </tbody>\n",
              "</table>\n",
              "</div>"
            ],
            "text/plain": [
              "                                  text\n",
              "airline        airline_sentiment      \n",
              "American       negative           1960\n",
              "               neutral             463\n",
              "               positive            336\n",
              "Delta          negative            955\n",
              "               neutral             723\n",
              "               positive            544\n",
              "Southwest      negative           1186\n",
              "               neutral             664\n",
              "               positive            570\n",
              "US Airways     negative           2263\n",
              "               neutral             381\n",
              "               positive            269\n",
              "United         negative           2633\n",
              "               neutral             697\n",
              "               positive            492\n",
              "Virgin America negative            181\n",
              "               neutral             171\n",
              "               positive            152"
            ]
          },
          "metadata": {},
          "execution_count": 12
        }
      ]
    },
    {
      "cell_type": "code",
      "metadata": {
        "colab": {
          "base_uri": "https://localhost:8080/",
          "height": 825
        },
        "id": "sv1HMLoU2Wh4",
        "outputId": "7df66e63-622d-4029-ac9a-02e6ac537d08"
      },
      "source": [
        "#fetching list of airlines in the data\n",
        "airlines = list(set(data['airline']))\n",
        "print(airlines)\n",
        "neutral = []\n",
        "positive = []\n",
        "negative = []\n",
        "total = []\n",
        "for air in airlines:\n",
        "  nu = data.query(\"airline == @air and airline_sentiment == 'neutral'\").text.count()\n",
        "  po = data.query(\"airline == @air and airline_sentiment == 'positive'\").text.count()\n",
        "  ng = data.query(\"airline == @air and airline_sentiment == 'negative'\").text.count()\n",
        "  neutral.append(nu)\n",
        "  positive.append(po)\n",
        "  negative.append(ng)\n",
        "  total.append(nu+po+ng)\n",
        "\n",
        "in1 = pd.DataFrame(index = airlines)\n",
        "in1['Positive'] = positive\n",
        "in1['Negative'] = negative\n",
        "in1['Neutral'] = neutral\n",
        "print(in1)\n",
        "pl = in1.plot.bar(figsize=(15,10))\n",
        "plt.xlabel('United States Airlines')\n",
        "plt.ylabel('Sentiment Count of Tweets')\n",
        "plt.title('Tweet sentiments by Airline')\n",
        "plt.show()"
      ],
      "execution_count": 20,
      "outputs": [
        {
          "output_type": "stream",
          "name": "stdout",
          "text": [
            "['Southwest', 'US Airways', 'Delta', 'American', 'Virgin America', 'United']\n",
            "                Positive  Negative  Neutral\n",
            "Southwest            570      1186      664\n",
            "US Airways           269      2263      381\n",
            "Delta                544       955      723\n",
            "American             336      1960      463\n",
            "Virgin America       152       181      171\n",
            "United               492      2633      697\n"
          ]
        },
        {
          "output_type": "display_data",
          "data": {
            "image/png": "[encoded data removed]",
            "text/plain": [
              "<Figure size 1080x720 with 1 Axes>"
            ]
          },
          "metadata": {
            "needs_background": "light"
          }
        }
      ]
    },
    {
      "cell_type": "markdown",
      "metadata": {
        "id": "J4tUv_cz7Obr"
      },
      "source": [
        "*Observations*\n",
        "* There are less number of customers using Virgin America for travelling\n",
        "* United airlines and US Airways have a good number of customers and also had bad experience with the airlines\n",
        "* Even though Southwest and Delta airlines had not many customers using their service, they had pretty good experince\n",
        "* Virgin America was not a choice for many of the customers for flying\n",
        "\n",
        "*Assumptions made for above insights:*\n",
        "* All customers who flew had given a review\n",
        "* No bias for a customer for a particular airline\n",
        "* All the airlines had services running on the tweeted dates"
      ]
    },
    {
      "cell_type": "code",
      "metadata": {
        "colab": {
          "base_uri": "https://localhost:8080/"
        },
        "id": "9oN142O13PU8",
        "outputId": "a8de95bc-15c6-43a5-d574-17cf6512941e"
      },
      "source": [
        "percentNeg = []\n",
        "percentPos = []\n",
        "percentNeu = []\n",
        "for neg,po,nu,tot in zip(negative,positive, neutral,total):\n",
        "    percng = (neg/tot)*100\n",
        "    percpo = (po/tot)*100\n",
        "    percnu = (nu/tot)*100\n",
        "    percentNeg.append(percng)\n",
        "    percentPos.append(percpo)\n",
        "    percentNeu.append(percnu)\n",
        "    \n",
        "in2 = pd.DataFrame(index=airlines)\n",
        "in2['Negative Feedback %'] = percentNeg \n",
        "in2['Positive Feedback %'] = percentPos\n",
        "in2['Neutral Feedback %'] = percentNeu\n",
        "print(in2[['Negative Feedback %','Positive Feedback %','Neutral Feedback %']])"
      ],
      "execution_count": 22,
      "outputs": [
        {
          "output_type": "stream",
          "name": "stdout",
          "text": [
            "                Negative Feedback %  Positive Feedback %  Neutral Feedback %\n",
            "Southwest                 49.008264            23.553719           27.438017\n",
            "US Airways                77.686234             9.234466           13.079300\n",
            "Delta                     42.979298            24.482448           32.538254\n",
            "American                  71.040232            12.178325           16.781443\n",
            "Virgin America            35.912698            30.158730           33.928571\n",
            "United                    68.890633            12.872841           18.236525\n"
          ]
        }
      ]
    },
    {
      "cell_type": "code",
      "metadata": {
        "colab": {
          "base_uri": "https://localhost:8080/",
          "height": 685
        },
        "id": "OwJnzEA1_v72",
        "outputId": "c286d3c2-4413-4d52-ceff-af7d854e2a54"
      },
      "source": [
        "pl = in2.plot.bar(figsize=(15,10))\n",
        "plt.title('Percentage of tweets')\n",
        "plt.xlabel('Airline')\n",
        "plt.ylabel('Percentage')\n",
        "plt.show()"
      ],
      "execution_count": 25,
      "outputs": [
        {
          "output_type": "display_data",
          "data": {
            "image/png": "[encoded data removed]",
            "text/plain": [
              "<Figure size 1080x720 with 1 Axes>"
            ]
          },
          "metadata": {
            "needs_background": "light"
          }
        }
      ]
    },
    {
      "cell_type": "markdown",
      "metadata": {
        "id": "nhWitF6xAdBG"
      },
      "source": [
        "*Observations:*\n",
        "* US Airways has the highest % of negative reviews\n",
        "* Virgin America has the highest % of positive feedback"
      ]
    },
    {
      "cell_type": "code",
      "metadata": {
        "id": "mCexhjfbAHRc"
      },
      "source": [
        ""
      ],
      "execution_count": null,
      "outputs": []
    }
  ]
}