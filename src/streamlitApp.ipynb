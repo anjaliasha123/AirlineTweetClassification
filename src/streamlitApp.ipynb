{
  "nbformat": 4,
  "nbformat_minor": 0,
  "metadata": {
    "colab": {
      "name": "streamlitApp.ipynb",
      "provenance": [],
      "authorship_tag": "ABX9TyNvZRh/Sju2ZeozAM2XoGBQ"
    },
    "kernelspec": {
      "name": "python3",
      "display_name": "Python 3"
    },
    "language_info": {
      "name": "python"
    }
  },
  "cells": [
    {
      "cell_type": "code",
      "metadata": {
        "colab": {
          "base_uri": "https://localhost:8080/"
        },
        "id": "5lhayc5ZuL6r",
        "outputId": "bf883e4a-1638-4f02-fca8-3b80cd22d860"
      },
      "source": [
        "!pip install streamlit -q"
      ],
      "execution_count": 1,
      "outputs": [
        {
          "output_type": "stream",
          "name": "stdout",
          "text": [
            "\u001b[K     |████████████████████████████████| 8.3 MB 5.5 MB/s \n",
            "\u001b[K     |████████████████████████████████| 111 kB 40.2 MB/s \n",
            "\u001b[K     |████████████████████████████████| 76 kB 4.5 MB/s \n",
            "\u001b[K     |████████████████████████████████| 4.3 MB 49.9 MB/s \n",
            "\u001b[K     |████████████████████████████████| 180 kB 60.5 MB/s \n",
            "\u001b[K     |████████████████████████████████| 63 kB 1.4 MB/s \n",
            "\u001b[K     |████████████████████████████████| 124 kB 50.2 MB/s \n",
            "\u001b[K     |████████████████████████████████| 788 kB 50.1 MB/s \n",
            "\u001b[K     |████████████████████████████████| 374 kB 42.7 MB/s \n",
            "\u001b[?25h  Building wheel for blinker (setup.py) ... \u001b[?25l\u001b[?25hdone\n",
            "\u001b[31mERROR: pip's dependency resolver does not currently take into account all the packages that are installed. This behaviour is the source of the following dependency conflicts.\n",
            "jupyter-console 5.2.0 requires prompt-toolkit<2.0.0,>=1.0.0, but you have prompt-toolkit 3.0.21 which is incompatible.\n",
            "google-colab 1.0.0 requires ipykernel~=4.10, but you have ipykernel 6.4.2 which is incompatible.\n",
            "google-colab 1.0.0 requires ipython~=5.5.0, but you have ipython 7.28.0 which is incompatible.\u001b[0m\n"
          ]
        }
      ]
    },
    {
      "cell_type": "code",
      "metadata": {
        "colab": {
          "base_uri": "https://localhost:8080/"
        },
        "id": "eXVdGi9TuV5C",
        "outputId": "d6b918cc-01a6-40db-d891-75bee72f25aa"
      },
      "source": [
        "%%writefile app.py\n",
        "import streamlit as st\n",
        "st.write('#hello world')"
      ],
      "execution_count": 2,
      "outputs": [
        {
          "output_type": "stream",
          "name": "stdout",
          "text": [
            "Writing app.py\n"
          ]
        }
      ]
    },
    {
      "cell_type": "code",
      "metadata": {
        "colab": {
          "base_uri": "https://localhost:8080/"
        },
        "id": "AYOe9ZYevCAK",
        "outputId": "45d2701f-b361-4f71-cc73-4ce241233952"
      },
      "source": [
        "!streamlit run app.py & npx localtunnel --port 8501"
      ],
      "execution_count": 5,
      "outputs": [
        {
          "output_type": "stream",
          "name": "stdout",
          "text": [
            "\u001b[K\u001b[?25hnpx: installed 22 in 2.904s\n",
            "your url is: https://modern-penguin-47.loca.lt\n",
            "\u001b[0m\n",
            "\u001b[34m\u001b[1m  You can now view your Streamlit app in your browser.\u001b[0m\n",
            "\u001b[0m\n",
            "\u001b[34m  Network URL: \u001b[0m\u001b[1mhttp://172.28.0.2:8501\u001b[0m\n",
            "\u001b[34m  External URL: \u001b[0m\u001b[1mhttp://34.70.147.249:8501\u001b[0m\n",
            "\u001b[0m\n",
            "2021-10-27 17:15:08.735 NumExpr defaulting to 2 threads.\n",
            "\u001b[34m  Stopping...\u001b[0m\n",
            "^C\n"
          ]
        }
      ]
    },
    {
      "cell_type": "code",
      "metadata": {
        "colab": {
          "base_uri": "https://localhost:8080/"
        },
        "id": "3gQqmie_tsce",
        "outputId": "b04c8a5e-14ce-484f-be00-fcdfe695d6ea"
      },
      "source": [
        "%%writefile app.py\n",
        "import streamlit as st\n",
        "import pandas as pd\n",
        "import numpy as np\n",
        "import plotly.express as px\n",
        "from wordcloud import WordCloud, STOPWORDS\n",
        "import matplotlib.pyplot as plt\n",
        "st.title(\"Sentiment Analysis of Tweets About US Airlines\")\n",
        "st.sidebar.title(\"Sentiment Analysis of Tweets About US Airlines\")\n",
        "st.markdown(\"Sentiment Analysis Application✈️ \")\n",
        "st.sidebar.markdown(\"Sentiment Analysis Application✈️ \")\n",
        "data_url = (\"https://raw.githubusercontent.com/anjaliasha123/Data_Visualization_projects/master/Streamlit_python/Tweets.csv\")\n",
        "@st.cache\n",
        "def load_data():\n",
        "    data = pd.read_csv(data_url)\n",
        "    data['tweet_created'] = pd.to_datetime(data['tweet_created'])\n",
        "    return data\n",
        "data = load_data()\n",
        "#to display the Tweets\n",
        "#st.write(data)\n",
        "st.subheader(\"Random Tweets\")\n",
        "random_tweet = st.radio('Sentiment',('positive','neutral','negative'))\n",
        "st.markdown(data.query('airline_sentiment==@random_tweet')[['text']].sample(n=1).iat[0,0])\n",
        "\n",
        "\n",
        "st.sidebar.markdown(\"## Number of Tweets by Sentiment\")\n",
        "select = st.sidebar.selectbox('Type of Chart!',['histogram','pie-chart'], key=1)\n",
        "sentiment_count = data['airline_sentiment'].value_counts()\n",
        "#st.write(sentiment_count)\n",
        "sentiment_count = pd.DataFrame({'Sentiment':sentiment_count.index, 'Tweets':sentiment_count.values})\n",
        "if not st.sidebar.checkbox(\"Hide\", True):\n",
        "    st.markdown(\"## Number of tweets by sentiment\")\n",
        "    if select == 'histogram':\n",
        "        fig = px.bar(sentiment_count,x='Sentiment',y='Tweets', color='Tweets',height=500)\n",
        "        st.plotly_chart(fig)\n",
        "\n",
        "    else:\n",
        "        fig = px.pie(sentiment_count,values='Tweets',names='Sentiment')\n",
        "        st.plotly_chart(fig)\n",
        "        \n",
        "st.set_option('deprecation.showPyplotGlobalUse', False)\n",
        "\n",
        "st.sidebar.subheader(\"Tweets by Airlines\")\n",
        "choice = st.sidebar.multiselect('Pick airlines',('US Airways','United','American','Southwest','Delta','Virgin America'), key=0)\n",
        "\n",
        "if len(choice)>0:\n",
        "    choice_data = data[data.airline.isin(choice)]\n",
        "    fig_choice = px.histogram(choice_data, x='airline',y='airline_sentiment',histfunc='count',color='airline_sentiment',facet_col='airline_sentiment',labels={'airline_sentiment':'tweets'},height=800,width=600)\n",
        "    st.plotly_chart(fig_choice)\n",
        "\n",
        "st.sidebar.header(\"Word Cloud\")\n",
        "word_sentiment = st.sidebar.radio('Sentiment Word Cloud',('positive','neutral','negative'))\n",
        "if not st.sidebar.checkbox(\"Close\",True,key='3'):\n",
        "    st.subheader(\"Word Cloud for %s sentiment\"%(word_sentiment))\n",
        "    df = data[data['airline_sentiment']==word_sentiment]\n",
        "    words = ' '.join(df['text'])\n",
        "    pro_words = ' '.join([word for word in words.split() if 'http' not in word and not word.startswith('@') and word!= 'RT'])\n",
        "    wordcloud = WordCloud(stopwords=STOPWORDS, background_color='white',height=640,width=640).generate(pro_words)\n",
        "    plt.imshow(wordcloud)\n",
        "    plt.xticks([])\n",
        "    plt.yticks([])\n",
        "    st.pyplot()"
      ],
      "execution_count": 4,
      "outputs": [
        {
          "output_type": "stream",
          "name": "stdout",
          "text": [
            "Overwriting app.py\n"
          ]
        }
      ]
    },
    {
      "cell_type": "code",
      "metadata": {
        "id": "9slPWwgAv2fi"
      },
      "source": [
        ""
      ],
      "execution_count": null,
      "outputs": []
    }
  ]
}