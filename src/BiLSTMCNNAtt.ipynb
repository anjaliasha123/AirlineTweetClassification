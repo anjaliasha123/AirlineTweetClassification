{
  "nbformat": 4,
  "nbformat_minor": 0,
  "metadata": {
    "colab": {
      "name": "BiLSTMCNNAtt.ipynb",
      "provenance": [],
      "collapsed_sections": [],
      "mount_file_id": "1CCdrQjSMwaPeprd_7ezcjONE3t_9_Un-",
      "authorship_tag": "ABX9TyMjlr3D2156M9+o81JYGMtb",
      "include_colab_link": true
    },
    "kernelspec": {
      "name": "python3",
      "display_name": "Python 3"
    },
    "language_info": {
      "name": "python"
    }
  },
  "cells": [
    {
      "cell_type": "markdown",
      "metadata": {
        "id": "view-in-github",
        "colab_type": "text"
      },
      "source": [
        "<a href=\"https://colab.research.google.com/github/anjaliasha123/AirlineTweetClassification/blob/main/src/BiLSTMCNNAtt.ipynb\" target=\"_parent\"><img src=\"https://colab.research.google.com/assets/colab-badge.svg\" alt=\"Open In Colab\"/></a>"
      ]
    },
    {
      "cell_type": "code",
      "metadata": {
        "colab": {
          "base_uri": "https://localhost:8080/"
        },
        "id": "cJ-w_DdPm7-_",
        "outputId": "05e78235-47ab-40ba-a126-ff88d021f7aa"
      },
      "source": [
        "from google.colab import drive\n",
        "drive.mount('/content/gdrive')"
      ],
      "execution_count": 1,
      "outputs": [
        {
          "output_type": "stream",
          "name": "stdout",
          "text": [
            "Mounted at /content/gdrive\n"
          ]
        }
      ]
    },
    {
      "cell_type": "markdown",
      "metadata": {
        "id": "_xjTDSlgsKUx"
      },
      "source": [
        "Initial required libraries"
      ]
    },
    {
      "cell_type": "code",
      "metadata": {
        "id": "3zgZ4NdRswRG"
      },
      "source": [
        "import os\n",
        "import sys\n",
        "import numpy as np\n",
        "import pandas as pd\n",
        "import matplotlib.pyplot as plt"
      ],
      "execution_count": 2,
      "outputs": []
    },
    {
      "cell_type": "markdown",
      "metadata": {
        "id": "LGM6AOeUfn0V"
      },
      "source": [
        "#Loading the Dataset\n",
        "*About the data:* <br>\n",
        "The data is an twitter comments of various US Airlines having sentiments of the tweet: positive, negative or neutral.\n",
        "\n",
        "*Columns:* <br>\n",
        "\n",
        "\n",
        "1.   text: The actual tweet\n",
        "2.   airline: Name of the airline tweeted about\n",
        "3. latitude, longitude: Location of the tweet\n",
        "4. airline_sentiment_confidence : Confidence of the sentiment classification of the tweet\n",
        "5. airline_sentiment: Sentiment of the tweet\n"
      ]
    },
    {
      "cell_type": "code",
      "metadata": {
        "id": "1evzfj8A0ix7",
        "colab": {
          "base_uri": "https://localhost:8080/"
        },
        "outputId": "6b706172-c2d9-4c2f-8336-db9ad0c6fa26"
      },
      "source": [
        "#intializing global variables\n",
        "data = pd.read_csv('https://raw.githubusercontent.com/anjaliasha123/Data_Visualization_projects/master/Streamlit_python/Tweets.csv')\n",
        "print(data.text.head(2))\n",
        "print(data.airline_sentiment.head(2))\n",
        "data['LABEL'] = 0\n",
        "data.loc[data.airline_sentiment == 'positive', 'LABEL'] = 0\n",
        "data.loc[data.airline_sentiment == 'negative', 'LABEL'] = 1\n",
        "data.loc[data.airline_sentiment == 'neutral', 'LABEL'] = 2\n",
        "print(data['LABEL'][:10])"
      ],
      "execution_count": 3,
      "outputs": [
        {
          "output_type": "stream",
          "name": "stdout",
          "text": [
            "0                  @VirginAmerica What @dhepburn said.\n",
            "1    @VirginAmerica plus you've added commercials t...\n",
            "Name: text, dtype: object\n",
            "0     neutral\n",
            "1    positive\n",
            "Name: airline_sentiment, dtype: object\n",
            "0    2\n",
            "1    0\n",
            "2    2\n",
            "3    1\n",
            "4    1\n",
            "5    1\n",
            "6    0\n",
            "7    2\n",
            "8    0\n",
            "9    0\n",
            "Name: LABEL, dtype: int64\n"
          ]
        }
      ]
    },
    {
      "cell_type": "code",
      "metadata": {
        "id": "MSgZH_S2jvFX"
      },
      "source": [
        "dataCopy = data"
      ],
      "execution_count": 8,
      "outputs": []
    },
    {
      "cell_type": "markdown",
      "metadata": {
        "id": "5L5Lsf4UhvQe"
      },
      "source": [
        "For the purpose of this project, we are considering only the 'text' column of the Xdata"
      ]
    },
    {
      "cell_type": "markdown",
      "metadata": {
        "id": "Y_5JFPHehyTF"
      },
      "source": [
        "#MOST COMMON VARIABLES:\n",
        "\n",
        "\n",
        "*   most_common : for the most common words of the dictionary\n",
        "*   max_len :\n",
        "* epochs : Number of times the training of the model must be done. It is a value that determines when a model should stop its training explicitly.\n",
        "* embed_dim : Dimension of a word vector\n",
        "* batch_size : size of a batch to train during each itteration of model training\n"
      ]
    },
    {
      "cell_type": "code",
      "metadata": {
        "id": "qKSWX_szgET9"
      },
      "source": [
        "most_common = 20000 #number of vocabs to be considered for the embedding matrix\n",
        "max_len = 100 \n",
        "epochs = 10\n",
        "embed_dim = 100\n",
        "batch_size = 100"
      ],
      "execution_count": 7,
      "outputs": []
    },
    {
      "cell_type": "markdown",
      "metadata": {
        "id": "TUFt5krVj8lO"
      },
      "source": [
        "#Data Preprocessing\n",
        "\n",
        "\n",
        "\n",
        "*   We need to convert y labels into categorical values\n",
        "*   We need to convert the \n",
        "\n"
      ]
    },
    {
      "cell_type": "code",
      "metadata": {
        "id": "V2zwS1SI6slu",
        "colab": {
          "base_uri": "https://localhost:8080/"
        },
        "outputId": "546b9447-2eb4-47f4-bc78-45f7cd7de971"
      },
      "source": [
        "from tensorflow.keras.utils import to_categorical\n",
        "labels = to_categorical(data['LABEL'], num_classes=3)\n",
        "print(labels[:10])"
      ],
      "execution_count": 4,
      "outputs": [
        {
          "output_type": "stream",
          "name": "stdout",
          "text": [
            "[[0. 0. 1.]\n",
            " [1. 0. 0.]\n",
            " [0. 0. 1.]\n",
            " [0. 1. 0.]\n",
            " [0. 1. 0.]\n",
            " [0. 1. 0.]\n",
            " [1. 0. 0.]\n",
            " [0. 0. 1.]\n",
            " [1. 0. 0.]\n",
            " [1. 0. 0.]]\n"
          ]
        }
      ]
    },
    {
      "cell_type": "code",
      "metadata": {
        "id": "t8gPjVZcd0yv",
        "colab": {
          "base_uri": "https://localhost:8080/"
        },
        "outputId": "7ef2801e-7c89-42e4-8910-e648588bc4ae"
      },
      "source": [
        "from tensorflow.keras.preprocessing.text import Tokenizer\n",
        "from tensorflow.keras.preprocessing.sequence import pad_sequences\n",
        "\n",
        "def dataPreprocessing(most_common,X):\n",
        "\n",
        "  tok = Tokenizer(num_words = most_common,filters='!\"#$%&()*+,-./:;<=>?@[\\\\]^_`{|}~\\t\\n', lower=True)\n",
        "  tok.fit_on_texts(X.text.values)\n",
        "  sequences = tok.texts_to_sequences(X.text.values)\n",
        "  word_index = tok.word_index\n",
        "  print('Found %s unique tokens.' % len(word_index))\n",
        "  paddedX = pad_sequences(sequences, maxlen = max_len)\n",
        "  return paddedX, len(word_index), word_index\n",
        "\n",
        "pX, size_unique_wordsX, wordIndex = dataPreprocessing(most_common,data)"
      ],
      "execution_count": 11,
      "outputs": [
        {
          "output_type": "stream",
          "name": "stdout",
          "text": [
            "Found 15768 unique tokens.\n"
          ]
        }
      ]
    },
    {
      "cell_type": "markdown",
      "metadata": {
        "id": "InM7ydfJkeI1"
      },
      "source": [
        "#Train-test split\n",
        "* 80% train data and 20 % test data\n",
        "\n"
      ]
    },
    {
      "cell_type": "code",
      "metadata": {
        "id": "mwk8od_uktke"
      },
      "source": [
        "from sklearn.model_selection import train_test_split\n",
        "X_train, X_test, y_train, y_test = train_test_split(pX , labels, test_size=0.2, random_state=42)"
      ],
      "execution_count": 12,
      "outputs": []
    },
    {
      "cell_type": "code",
      "metadata": {
        "colab": {
          "base_uri": "https://localhost:8080/"
        },
        "id": "E98Pr8AVk1Yl",
        "outputId": "a7ada591-0761-47e1-8691-588ba5a54b2f"
      },
      "source": [
        "print('Training shape X: {} y:{}'.format(X_train.shape, y_train.shape))\n",
        "print('Testing shape X: {} y:{}'.format(X_test.shape, y_test.shape))"
      ],
      "execution_count": 13,
      "outputs": [
        {
          "output_type": "stream",
          "name": "stdout",
          "text": [
            "Training shape X: (11712, 100) y:(11712, 3)\n",
            "Testing shape X: (2928, 100) y:(2928, 3)\n"
          ]
        }
      ]
    },
    {
      "cell_type": "markdown",
      "metadata": {
        "id": "1Nr5UJRRtJaR"
      },
      "source": [
        "#Creating the WordToVector dictionary"
      ]
    },
    {
      "cell_type": "code",
      "metadata": {
        "id": "GMz97Spar0Ve"
      },
      "source": [
        "def createEmbeddingMatrix(word_index):\n",
        "  word2vec = {}\n",
        "  with open(os.path.join('/content/gdrive/My Drive/glove.6B.100d.txt'),encoding='utf8') as f:\n",
        "      for line in f:\n",
        "          values = line.rstrip().rsplit(' ')\n",
        "          word = values[0]\n",
        "          coefs = np.asarray(values[1:], dtype='float32')\n",
        "          word2vec[word] = coefs\n",
        "  num_of_words = min(most_common, len(word_index)+1)\n",
        "  embedding_matrix = np.zeros((num_of_words,embed_dim))\n",
        "  for word,i in word_index.items():\n",
        "      if i < num_of_words:\n",
        "          embedd_vec = word2vec.get(word)\n",
        "          if embedd_vec is not None:\n",
        "              embedding_matrix[i] = embedd_vec\n",
        "  return embedding_matrix, num_of_words\n",
        "\n",
        "embedMatrix, num_of_words = createEmbeddingMatrix(wordIndex)"
      ],
      "execution_count": 15,
      "outputs": []
    },
    {
      "cell_type": "code",
      "metadata": {
        "colab": {
          "base_uri": "https://localhost:8080/"
        },
        "id": "5Aeb4pDSsiQx",
        "outputId": "c1896c8a-df6e-4915-8d04-10956287c97e"
      },
      "source": [
        "embedMatrix.shape"
      ],
      "execution_count": 17,
      "outputs": [
        {
          "output_type": "execute_result",
          "data": {
            "text/plain": [
              "(15769, 100)"
            ]
          },
          "metadata": {},
          "execution_count": 17
        }
      ]
    },
    {
      "cell_type": "markdown",
      "metadata": {
        "id": "JunXx8SgWrRn"
      },
      "source": [
        "#Creating the Model"
      ]
    },
    {
      "cell_type": "code",
      "metadata": {
        "id": "DYUO6PInuP1l"
      },
      "source": [
        "from tensorflow.keras.layers import Embedding\n",
        "from tensorflow.keras.layers import Input\n",
        "from tensorflow.keras.layers import Dense\n",
        "from tensorflow.keras.layers import GlobalMaxPooling1D, Dropout\n",
        "from tensorflow.keras.layers import LSTM, Bidirectional\n",
        "from tensorflow.keras.layers import Dense, Lambda, Dot, Activation, Concatenate\n",
        "from tensorflow.keras.layers import Conv1D, MaxPooling1D,GlobalMaxPool1D\n",
        "from tensorflow.keras.models import Model\n",
        "from tensorflow.keras.optimizers import  Adam"
      ],
      "execution_count": 18,
      "outputs": []
    },
    {
      "cell_type": "code",
      "metadata": {
        "id": "TFXm0xqiWtnj"
      },
      "source": [
        "#creating the embedding layer\n",
        "embedding_layer = Embedding(input_dim=num_of_words,output_dim=max_len,weights=[embedMatrix],input_length=max_len,trainable=False)\n",
        "#input_layer\n",
        "input_layer = Input((max_len,),name='InputLayer')\n",
        "#embedding layer\n",
        "embedding_layer = embedding_layer(input_layer)\n",
        "#bi-directional LSTM layer\n",
        "lstm = Bidirectional(LSTM(50,return_sequences=True))(embedding_layer)\n",
        "#dropout layer\n",
        "drop_lstm = Dropout(0.3)(lstm)\n",
        "#CNN layers\n",
        "first_conv_layer = Conv1D(128, 3, activation='relu')(lstm)\n",
        "first_max_pooling_layer = MaxPooling1D(3)(first_conv_layer)\n",
        "second_conv_layer = Conv1D(128, 4, activation='relu')(first_conv_layer)\n",
        "second_max_pooling_layer = MaxPooling1D(4)(second_conv_layer)\n",
        "third_conv_layer = Conv1D(128, 5, activation='relu')(second_max_pooling_layer)\n",
        "third_max_pooling_layer = MaxPooling1D(5)(third_conv_layer)\n",
        "merged = Concatenate(axis=1)([first_max_pooling_layer,second_max_pooling_layer,third_max_pooling_layer])\n",
        "context_vector = GlobalMaxPool1D()(merged)\n",
        "\n",
        "#attention mechanism\n",
        "densor1 = Dense(10, activation = \"tanh\")\n",
        "densor2 = Dense(100, activation = \"relu\")\n",
        "activator = Activation('softmax', name='attention_weights')\n",
        "dotor = Dot(axes = 1)\n",
        "hidden_size = int(lstm.shape[2])\n",
        "h_t = Lambda(lambda x: x[:, -1, :], output_shape=(hidden_size,), name='last_hidden_state')(lstm)\n",
        "pre_activation = Concatenate(axis=1)([context_vector, h_t])\n",
        "e = densor1(pre_activation)\n",
        "energies = densor2(e)\n",
        "alphas = activator(energies)\n",
        "s = dotor([alphas, lstm])\n",
        "output_layer = Dense(3, use_bias=False, activation='softmax', name='attention_vector')(s)\n",
        "model = Model(input_layer,output_layer)\n",
        "model.compile(\n",
        "        loss='categorical_crossentropy',\n",
        "        optimizer=Adam(learning_rate=0.01),\n",
        "        metrics=['accuracy']\n",
        "             )"
      ],
      "execution_count": 21,
      "outputs": []
    },
    {
      "cell_type": "code",
      "metadata": {
        "id": "4_dOrK4NLN8D",
        "colab": {
          "base_uri": "https://localhost:8080/"
        },
        "outputId": "43dc57ae-4105-46e8-ae12-64fb3900edca"
      },
      "source": [
        "from tensorflow.keras.callbacks import Callback\n",
        "import tensorflow\n",
        "\n",
        "class MyThresholdCallback(tensorflow.keras.callbacks.Callback):\n",
        "    def __init__(self, threshold):\n",
        "        super(MyThresholdCallback, self).__init__()\n",
        "        self.threshold = threshold\n",
        "\n",
        "    def on_epoch_end(self, epoch, logs=None): \n",
        "        acc = logs[\"accuracy\"]\n",
        "        if acc >= self.threshold:\n",
        "            self.model.stop_training = True\n",
        "\n",
        "\n",
        "callback=MyThresholdCallback(threshold=0.95)\n",
        "r = model.fit(\n",
        "           X_train, y_train,\n",
        "            batch_size=50,\n",
        "            epochs=200,\n",
        "            validation_split=0.2,\n",
        "            callbacks=[callback]  \n",
        "            )"
      ],
      "execution_count": 22,
      "outputs": [
        {
          "output_type": "stream",
          "name": "stdout",
          "text": [
            "Epoch 1/200\n",
            "188/188 [==============================] - 47s 224ms/step - loss: 0.6948 - accuracy: 0.7089 - val_loss: 0.6065 - val_accuracy: 0.7593\n",
            "Epoch 2/200\n",
            "188/188 [==============================] - 42s 222ms/step - loss: 0.5474 - accuracy: 0.7767 - val_loss: 0.5641 - val_accuracy: 0.7636\n",
            "Epoch 3/200\n",
            "188/188 [==============================] - 43s 227ms/step - loss: 0.4744 - accuracy: 0.8068 - val_loss: 0.5467 - val_accuracy: 0.7802\n",
            "Epoch 4/200\n",
            "188/188 [==============================] - 43s 229ms/step - loss: 0.4036 - accuracy: 0.8449 - val_loss: 0.5732 - val_accuracy: 0.7734\n",
            "Epoch 5/200\n",
            "188/188 [==============================] - 41s 218ms/step - loss: 0.3333 - accuracy: 0.8748 - val_loss: 0.6108 - val_accuracy: 0.7661\n",
            "Epoch 6/200\n",
            "188/188 [==============================] - 40s 215ms/step - loss: 0.2624 - accuracy: 0.9019 - val_loss: 0.7381 - val_accuracy: 0.7712\n",
            "Epoch 7/200\n",
            "188/188 [==============================] - 40s 213ms/step - loss: 0.1996 - accuracy: 0.9275 - val_loss: 0.8185 - val_accuracy: 0.7657\n",
            "Epoch 8/200\n",
            "188/188 [==============================] - 40s 213ms/step - loss: 0.1813 - accuracy: 0.9323 - val_loss: 0.8688 - val_accuracy: 0.7661\n",
            "Epoch 9/200\n",
            "188/188 [==============================] - 40s 215ms/step - loss: 0.1363 - accuracy: 0.9521 - val_loss: 0.9499 - val_accuracy: 0.7670\n"
          ]
        }
      ]
    },
    {
      "cell_type": "code",
      "metadata": {
        "id": "qAbo6O8f0RtR"
      },
      "source": [
        "model.save(\"bilstmCNNAtt.h5\")"
      ],
      "execution_count": 23,
      "outputs": []
    },
    {
      "cell_type": "code",
      "metadata": {
        "id": "cnWvwZeXm5XD",
        "colab": {
          "base_uri": "https://localhost:8080/",
          "height": 316
        },
        "outputId": "d7d76212-42c0-44c8-a23e-0aa84b9a4ed5"
      },
      "source": [
        "import matplotlib.pyplot as plt\n",
        "\n",
        "acc = r.history['accuracy']\n",
        "val_acc = r.history['val_accuracy']\n",
        "loss = r.history['loss']\n",
        "val_loss = r.history['val_loss']\n",
        "\n",
        "epochs = range(1, len(acc) + 1)\n",
        "\n",
        "plt.plot(epochs, acc, label='Training acc')\n",
        "plt.plot(epochs, val_acc, label='Validation acc')\n",
        "plt.title('Training and validation accuracy')\n",
        "plt.legend()\n",
        "\n",
        "plt.figure()"
      ],
      "execution_count": 24,
      "outputs": [
        {
          "output_type": "execute_result",
          "data": {
            "text/plain": [
              "<Figure size 432x288 with 0 Axes>"
            ]
          },
          "metadata": {},
          "execution_count": 24
        },
        {
          "output_type": "display_data",
          "data": {
            "image/png": "[encoded data removed]",
            "text/plain": [
              "<Figure size 432x288 with 1 Axes>"
            ]
          },
          "metadata": {
            "needs_background": "light"
          }
        },
        {
          "output_type": "display_data",
          "data": {
            "text/plain": [
              "<Figure size 432x288 with 0 Axes>"
            ]
          },
          "metadata": {}
        }
      ]
    },
    {
      "cell_type": "code",
      "metadata": {
        "colab": {
          "base_uri": "https://localhost:8080/",
          "height": 281
        },
        "id": "DobamSoFpVEk",
        "outputId": "4fb74732-a193-4989-9eb5-07814377c577"
      },
      "source": [
        "plt.plot(epochs, loss, label='Training loss')\n",
        "plt.plot(epochs, val_loss,label='Validation loss')\n",
        "plt.title('Training and validation loss')\n",
        "plt.legend()\n",
        "\n",
        "plt.show()\n"
      ],
      "execution_count": 25,
      "outputs": [
        {
          "output_type": "display_data",
          "data": {
            "image/png": "[encoded data removed]",
            "text/plain": [
              "<Figure size 432x288 with 1 Axes>"
            ]
          },
          "metadata": {
            "needs_background": "light"
          }
        }
      ]
    },
    {
      "cell_type": "code",
      "metadata": {
        "id": "NOXyhld0pmqY"
      },
      "source": [
        "pred_df = pd.DataFrame()"
      ],
      "execution_count": 26,
      "outputs": []
    },
    {
      "cell_type": "code",
      "metadata": {
        "colab": {
          "base_uri": "https://localhost:8080/"
        },
        "id": "gh6MXAhUpz2d",
        "outputId": "8ecc5ed2-c58f-4868-dba4-0fde98334700"
      },
      "source": [
        "pred = model.predict(X_test)\n",
        "pred[0]"
      ],
      "execution_count": 27,
      "outputs": [
        {
          "output_type": "execute_result",
          "data": {
            "text/plain": [
              "array([0.8969502 , 0.03155956, 0.07149021], dtype=float32)"
            ]
          },
          "metadata": {},
          "execution_count": 27
        }
      ]
    },
    {
      "cell_type": "code",
      "metadata": {
        "colab": {
          "base_uri": "https://localhost:8080/"
        },
        "id": "9BIZ4EYmp-_d",
        "outputId": "f3eebc0f-de0a-4913-92dd-f9e0b8e3f4dd"
      },
      "source": [
        "labels = ['positive', 'negative', 'neutral']\n",
        "X_test.shape"
      ],
      "execution_count": 28,
      "outputs": [
        {
          "output_type": "execute_result",
          "data": {
            "text/plain": [
              "(2928, 100)"
            ]
          },
          "metadata": {},
          "execution_count": 28
        }
      ]
    },
    {
      "cell_type": "code",
      "metadata": {
        "id": "PI3fjoLVqKWS"
      },
      "source": [
        "pred_df['tweets'] = dataCopy.text.iloc[int(len(dataCopy)*0.8):]\n",
        "pred_df['actual'] = dataCopy.airline_sentiment.iloc[int(len(dataCopy)*0.8):]\n",
        "pred_df['predicted'] = None\n",
        "for i in range(len(X_test)):\n",
        "  pred_df.predicted.iloc[i] = labels[np.argmax(pred[i])]"
      ],
      "execution_count": 42,
      "outputs": []
    },
    {
      "cell_type": "code",
      "metadata": {
        "colab": {
          "base_uri": "https://localhost:8080/"
        },
        "id": "sRrxuv9brjpN",
        "outputId": "ec07b325-4120-4556-e0fb-80935c6f03f5"
      },
      "source": [
        "pred_df.iloc[1]"
      ],
      "execution_count": 47,
      "outputs": [
        {
          "output_type": "execute_result",
          "data": {
            "text/plain": [
              "tweets       @USAirways Flight Cancelled Flighted because o...\n",
              "actual                                                negative\n",
              "predicted                                             negative\n",
              "Name: 11713, dtype: object"
            ]
          },
          "metadata": {},
          "execution_count": 47
        }
      ]
    },
    {
      "cell_type": "code",
      "metadata": {
        "id": "2BEByn18r426"
      },
      "source": [
        "pred_df.to_csv(\"predictions.csv\")"
      ],
      "execution_count": 48,
      "outputs": []
    },
    {
      "cell_type": "markdown",
      "metadata": {
        "id": "0bzmYWQpsc13"
      },
      "source": [
        "#Model evaluation"
      ]
    },
    {
      "cell_type": "code",
      "metadata": {
        "colab": {
          "base_uri": "https://localhost:8080/",
          "height": 409
        },
        "id": "FwPROq-fsT7K",
        "outputId": "150ff182-8226-4197-d056-e6c21b69c242"
      },
      "source": [
        "from sklearn.metrics import confusion_matrix\n",
        "import seaborn as sns\n",
        "def plot_confusion_matrix(model, X_test, y_test):\n",
        "    \n",
        "    sentiment_classes = ['Negative', 'Neutral', 'Positive']\n",
        "    # use model to do the prediction\n",
        "    y_pred = model.predict(X_test)\n",
        "    cm = confusion_matrix(np.argmax(np.array(y_test),axis=1), np.argmax(y_pred, axis=1))\n",
        "    plt.figure(figsize=(8,6))\n",
        "    sns.heatmap(cm, cmap=plt.cm.Blues, annot=True, fmt='d', \n",
        "                xticklabels=sentiment_classes,\n",
        "                yticklabels=sentiment_classes)\n",
        "    plt.title('Confusion matrix', fontsize=16)\n",
        "    plt.xlabel('Actual label', fontsize=12)\n",
        "    plt.ylabel('Predicted label', fontsize=12)\n",
        "    \n",
        "plot_confusion_matrix(model, X_test, y_test)"
      ],
      "execution_count": 49,
      "outputs": [
        {
          "output_type": "display_data",
          "data": {
            "image/png": "[encoded data removed]",
            "text/plain": [
              "<Figure size 576x432 with 2 Axes>"
            ]
          },
          "metadata": {
            "needs_background": "light"
          }
        }
      ]
    },
    {
      "cell_type": "code",
      "metadata": {
        "id": "UgT07m58smJf"
      },
      "source": [
        ""
      ],
      "execution_count": null,
      "outputs": []
    }
  ]
}