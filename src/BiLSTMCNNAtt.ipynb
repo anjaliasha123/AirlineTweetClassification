{
  "nbformat": 4,
  "nbformat_minor": 0,
  "metadata": {
    "colab": {
      "name": "BiLSTMCNNAtt.ipynb",
      "provenance": [],
      "collapsed_sections": [],
      "mount_file_id": "1CCdrQjSMwaPeprd_7ezcjONE3t_9_Un-",
      "authorship_tag": "ABX9TyMOS1ohma6cth494L2nnHhC"
    },
    "kernelspec": {
      "name": "python3",
      "display_name": "Python 3"
    },
    "language_info": {
      "name": "python"
    }
  },
  "cells": [
    {
      "cell_type": "code",
      "metadata": {
        "colab": {
          "base_uri": "https://localhost:8080/"
        },
        "id": "cJ-w_DdPm7-_",
        "outputId": "4b955625-53ad-42bc-eeb7-9ce4857a8ac1"
      },
      "source": [
        "from google.colab import drive\n",
        "drive.mount('/content/gdrive')"
      ],
      "execution_count": 1,
      "outputs": [
        {
          "output_type": "stream",
          "name": "stdout",
          "text": [
            "Mounted at /content/gdrive\n"
          ]
        }
      ]
    },
    {
      "cell_type": "markdown",
      "metadata": {
        "id": "_xjTDSlgsKUx"
      },
      "source": [
        "Initial required libraries"
      ]
    },
    {
      "cell_type": "code",
      "metadata": {
        "id": "3zgZ4NdRswRG"
      },
      "source": [
        "import os\n",
        "import sys\n",
        "import numpy as np\n",
        "import pandas as pd\n",
        "import matplotlib.pyplot as plt"
      ],
      "execution_count": 2,
      "outputs": []
    },
    {
      "cell_type": "markdown",
      "metadata": {
        "id": "LGM6AOeUfn0V"
      },
      "source": [
        "#Loading the Dataset\n",
        "*About the data:* <br>\n",
        "The data is an twitter comments of various US Airlines having sentiments of the tweet: positive, negative or neutral.\n",
        "\n",
        "*Columns:* <br>\n",
        "\n",
        "\n",
        "1.   text: The actual tweet\n",
        "2.   airline: Name of the airline tweeted about\n",
        "3. latitude, longitude: Location of the tweet\n",
        "4. airline_sentiment_confidence : Confidence of the sentiment classification of the tweet\n",
        "5. airline_sentiment: Sentiment of the tweet\n"
      ]
    },
    {
      "cell_type": "code",
      "metadata": {
        "id": "1evzfj8A0ix7",
        "colab": {
          "base_uri": "https://localhost:8080/"
        },
        "outputId": "baeafe36-a2ba-4b8a-a1f4-cf2b93838d92"
      },
      "source": [
        "#intializing global variables\n",
        "data = pd.read_csv('https://raw.githubusercontent.com/anjaliasha123/Data_Visualization_projects/master/Streamlit_python/Tweets.csv')\n",
        "print(data.text.head(2))\n",
        "print(data.airline_sentiment.head(2))\n",
        "data['LABEL'] = 0\n",
        "data.loc[data.airline_sentiment == 'positive', 'LABEL'] = 0\n",
        "data.loc[data.airline_sentiment == 'negative', 'LABEL'] = 1\n",
        "data.loc[data.airline_sentiment == 'neutral', 'LABEL'] = 2\n",
        "print(data['LABEL'][:10])"
      ],
      "execution_count": 3,
      "outputs": [
        {
          "output_type": "stream",
          "name": "stdout",
          "text": [
            "0                  @VirginAmerica What @dhepburn said.\n",
            "1    @VirginAmerica plus you've added commercials t...\n",
            "Name: text, dtype: object\n",
            "0     neutral\n",
            "1    positive\n",
            "Name: airline_sentiment, dtype: object\n",
            "0    2\n",
            "1    0\n",
            "2    2\n",
            "3    1\n",
            "4    1\n",
            "5    1\n",
            "6    0\n",
            "7    2\n",
            "8    0\n",
            "9    0\n",
            "Name: LABEL, dtype: int64\n"
          ]
        }
      ]
    },
    {
      "cell_type": "code",
      "metadata": {
        "id": "MSgZH_S2jvFX"
      },
      "source": [
        "dataCopy = data"
      ],
      "execution_count": 4,
      "outputs": []
    },
    {
      "cell_type": "markdown",
      "metadata": {
        "id": "5L5Lsf4UhvQe"
      },
      "source": [
        "For the purpose of this project, we are considering only the 'text' column of the Xdata"
      ]
    },
    {
      "cell_type": "markdown",
      "metadata": {
        "id": "Y_5JFPHehyTF"
      },
      "source": [
        "#MOST COMMON VARIABLES:\n",
        "\n",
        "\n",
        "*   most_common : for the most common words of the dictionary\n",
        "*   max_len :\n",
        "* epochs : Number of times the training of the model must be done. It is a value that determines when a model should stop its training explicitly.\n",
        "* embed_dim : Dimension of a word vector\n",
        "* batch_size : size of a batch to train during each itteration of model training\n"
      ]
    },
    {
      "cell_type": "code",
      "metadata": {
        "id": "qKSWX_szgET9"
      },
      "source": [
        "most_common = 20000 #number of vocabs to be considered for the embedding matrix\n",
        "max_len = 100 \n",
        "epochs = 10\n",
        "embed_dim = 100\n",
        "batch_size = 100"
      ],
      "execution_count": 5,
      "outputs": []
    },
    {
      "cell_type": "markdown",
      "metadata": {
        "id": "TUFt5krVj8lO"
      },
      "source": [
        "#Data Preprocessing\n",
        "\n",
        "\n",
        "\n",
        "*   We need to convert y labels into categorical values\n",
        "*   We need to convert the \n",
        "\n"
      ]
    },
    {
      "cell_type": "code",
      "metadata": {
        "id": "V2zwS1SI6slu",
        "colab": {
          "base_uri": "https://localhost:8080/"
        },
        "outputId": "8e1a9c48-afa5-4f69-e682-4ea3c998af56"
      },
      "source": [
        "from tensorflow.keras.utils import to_categorical\n",
        "labels = to_categorical(data['LABEL'], num_classes=3)\n",
        "print(labels[:10])"
      ],
      "execution_count": 6,
      "outputs": [
        {
          "output_type": "stream",
          "name": "stdout",
          "text": [
            "[[0. 0. 1.]\n",
            " [1. 0. 0.]\n",
            " [0. 0. 1.]\n",
            " [0. 1. 0.]\n",
            " [0. 1. 0.]\n",
            " [0. 1. 0.]\n",
            " [1. 0. 0.]\n",
            " [0. 0. 1.]\n",
            " [1. 0. 0.]\n",
            " [1. 0. 0.]]\n"
          ]
        }
      ]
    },
    {
      "cell_type": "code",
      "metadata": {
        "id": "t8gPjVZcd0yv",
        "colab": {
          "base_uri": "https://localhost:8080/"
        },
        "outputId": "3a158291-a366-40bc-d45a-ad2b0fff9eb2"
      },
      "source": [
        "from tensorflow.keras.preprocessing.text import Tokenizer\n",
        "from tensorflow.keras.preprocessing.sequence import pad_sequences\n",
        "from utilsfunction import dataPreprocessing\n",
        "\n",
        "pX, size_unique_wordsX, wordIndex = dataPreprocessing(most_common,data)"
      ],
      "execution_count": 7,
      "outputs": [
        {
          "output_type": "stream",
          "name": "stdout",
          "text": [
            "Drive already mounted at /content/gdrive; to attempt to forcibly remount, call drive.mount(\"/content/gdrive\", force_remount=True).\n",
            "Found 15768 unique tokens.\n"
          ]
        }
      ]
    },
    {
      "cell_type": "markdown",
      "metadata": {
        "id": "InM7ydfJkeI1"
      },
      "source": [
        "#Train-test split\n",
        "* 80% train data and 20 % test data\n",
        "\n"
      ]
    },
    {
      "cell_type": "code",
      "metadata": {
        "id": "mwk8od_uktke"
      },
      "source": [
        "from sklearn.model_selection import train_test_split\n",
        "X_train, X_test, y_train, y_test = train_test_split(pX , labels, test_size=0.2, random_state=42)"
      ],
      "execution_count": 8,
      "outputs": []
    },
    {
      "cell_type": "code",
      "metadata": {
        "colab": {
          "base_uri": "https://localhost:8080/"
        },
        "id": "E98Pr8AVk1Yl",
        "outputId": "02d9349f-5690-496a-8ade-94069a27afbb"
      },
      "source": [
        "print('Training shape X: {} y:{}'.format(X_train.shape, y_train.shape))\n",
        "print('Testing shape X: {} y:{}'.format(X_test.shape, y_test.shape))"
      ],
      "execution_count": 9,
      "outputs": [
        {
          "output_type": "stream",
          "name": "stdout",
          "text": [
            "Training shape X: (11712, 100) y:(11712, 3)\n",
            "Testing shape X: (2928, 100) y:(2928, 3)\n"
          ]
        }
      ]
    },
    {
      "cell_type": "markdown",
      "metadata": {
        "id": "1Nr5UJRRtJaR"
      },
      "source": [
        "#Creating the WordToVector dictionary"
      ]
    },
    {
      "cell_type": "code",
      "metadata": {
        "id": "GMz97Spar0Ve"
      },
      "source": [
        "from utilsfunction import createEmbeddingMatrix\n",
        "\n",
        "embedMatrix, num_of_words = createEmbeddingMatrix(wordIndex)"
      ],
      "execution_count": 10,
      "outputs": []
    },
    {
      "cell_type": "code",
      "metadata": {
        "colab": {
          "base_uri": "https://localhost:8080/"
        },
        "id": "5Aeb4pDSsiQx",
        "outputId": "2b26dd7f-d567-48c3-f6cb-273e9d29f142"
      },
      "source": [
        "embedMatrix.shape"
      ],
      "execution_count": 11,
      "outputs": [
        {
          "output_type": "execute_result",
          "data": {
            "text/plain": [
              "(15769, 100)"
            ]
          },
          "metadata": {},
          "execution_count": 11
        }
      ]
    },
    {
      "cell_type": "markdown",
      "metadata": {
        "id": "JunXx8SgWrRn"
      },
      "source": [
        "#Creating the Model"
      ]
    },
    {
      "cell_type": "code",
      "metadata": {
        "id": "IRX8bHrtP_j5"
      },
      "source": [
        "from tensorflow.keras.layers import Embedding\n",
        "from tensorflow.keras.layers import Input\n",
        "from tensorflow.keras.layers import Dense\n",
        "from tensorflow.keras.layers import GlobalMaxPooling1D, Dropout\n",
        "from tensorflow.keras.layers import LSTM, Bidirectional\n",
        "from tensorflow.keras.layers import Dense, Lambda, Dot, Activation, Concatenate\n",
        "from tensorflow.keras.layers import Conv1D, MaxPooling1D,GlobalMaxPool1D\n",
        "from tensorflow.keras.models import Model\n",
        "from tensorflow.keras.optimizers import  Adam\n",
        "from tensorflow.keras.callbacks import Callback\n",
        "import tensorflow\n",
        "def createModel(num_of_words, max_len, embedMatrix, lstm_units, num_classes):\n",
        "  import tensorflow\n",
        "  #creating the embedding layer\n",
        "  embedding_layer = Embedding(input_dim=num_of_words,output_dim=max_len,weights=[embedMatrix],input_length=max_len,trainable=False)\n",
        "  #input_layer\n",
        "  input_layer = Input((max_len,),name='InputLayer')\n",
        "  #embedding layer\n",
        "  embedding_layer = embedding_layer(input_layer)\n",
        "  #bi-directional LSTM layer\n",
        "  lstm = Bidirectional(LSTM(50,return_sequences=True))(embedding_layer)\n",
        "  #dropout layer\n",
        "  drop_lstm = Dropout(0.3)(lstm)\n",
        "  #CNN layers\n",
        "  first_conv_layer = Conv1D(100, 3, activation='relu')(lstm)\n",
        "  first_max_pooling_layer = MaxPooling1D(3)(first_conv_layer)\n",
        "  second_conv_layer = Conv1D(100, 4, activation='relu')(first_conv_layer)\n",
        "  second_max_pooling_layer = MaxPooling1D(4)(second_conv_layer)\n",
        "  third_conv_layer = Conv1D(100, 5, activation='relu')(second_max_pooling_layer)\n",
        "  third_max_pooling_layer = MaxPooling1D(5)(third_conv_layer)\n",
        "  merged = Concatenate(axis=1)([first_max_pooling_layer,second_max_pooling_layer,third_max_pooling_layer])\n",
        "  context_vector = GlobalMaxPool1D()(merged)\n",
        "\n",
        "  #attention mechanism\n",
        "  densor1 = Dense(10, activation = \"tanh\")\n",
        "  densor2 = Dense(100, activation = \"relu\")\n",
        "  activator = Activation('softmax', name='attention_weights')\n",
        "  dotor = Dot(axes = 1)\n",
        "  hidden_size = int(lstm.shape[2])\n",
        "  h_t = Lambda(lambda x: x[:, -1, :], output_shape=(hidden_size,), name='last_hidden_state')(lstm)\n",
        "  pre_activation = Concatenate(axis=1)([context_vector, h_t])\n",
        "  e = densor1(pre_activation)\n",
        "  energies = densor2(e)\n",
        "  alphas = activator(energies)\n",
        "  s = dotor([alphas, lstm])\n",
        "  output_layer = Dense(3, use_bias=False, activation='softmax', name='attention_vector')(s)\n",
        "  model = Model(input_layer,output_layer)\n",
        "  model.compile(\n",
        "          loss='categorical_crossentropy',\n",
        "          optimizer=Adam(learning_rate=0.01),\n",
        "          metrics=['accuracy']\n",
        "              )\n",
        "  return model\n",
        "\n",
        "model = createModel(num_of_words, max_len, embedMatrix, lstm_units=50, num_classes=3)"
      ],
      "execution_count": 13,
      "outputs": []
    },
    {
      "cell_type": "code",
      "metadata": {
        "colab": {
          "base_uri": "https://localhost:8080/"
        },
        "id": "AOQKDxwPXzK0",
        "outputId": "e97b50c9-5e3d-4dfc-f6c5-8a18fb35dc59"
      },
      "source": [
        "from tensorflow.keras.callbacks import Callback\n",
        "import tensorflow\n",
        "\n",
        "class MyThresholdCallback(tensorflow.keras.callbacks.Callback):\n",
        "    def __init__(self, threshold):\n",
        "        super(MyThresholdCallback, self).__init__()\n",
        "        self.threshold = threshold\n",
        "\n",
        "    def on_epoch_end(self, epoch, logs=None): \n",
        "        acc = logs[\"accuracy\"]\n",
        "        if acc >= self.threshold:\n",
        "            self.model.stop_training = True\n",
        "\n",
        "\n",
        "callback=MyThresholdCallback(threshold=0.95)\n",
        "r = model.fit(\n",
        "           X_train, y_train,\n",
        "            batch_size=50,\n",
        "            epochs=200,\n",
        "            validation_split=0.2,\n",
        "            callbacks=[callback]  \n",
        "            )"
      ],
      "execution_count": 14,
      "outputs": [
        {
          "output_type": "stream",
          "name": "stdout",
          "text": [
            "Epoch 1/200\n",
            "188/188 [==============================] - 40s 195ms/step - loss: 0.7012 - accuracy: 0.7097 - val_loss: 0.6224 - val_accuracy: 0.7341\n",
            "Epoch 2/200\n",
            "188/188 [==============================] - 35s 189ms/step - loss: 0.5226 - accuracy: 0.7893 - val_loss: 0.5376 - val_accuracy: 0.7793\n",
            "Epoch 3/200\n",
            "188/188 [==============================] - 35s 187ms/step - loss: 0.4489 - accuracy: 0.8234 - val_loss: 0.5335 - val_accuracy: 0.7917\n",
            "Epoch 4/200\n",
            "188/188 [==============================] - 36s 190ms/step - loss: 0.3878 - accuracy: 0.8489 - val_loss: 0.5458 - val_accuracy: 0.7853\n",
            "Epoch 5/200\n",
            "188/188 [==============================] - 36s 190ms/step - loss: 0.3145 - accuracy: 0.8789 - val_loss: 0.5976 - val_accuracy: 0.7729\n",
            "Epoch 6/200\n",
            "188/188 [==============================] - 36s 190ms/step - loss: 0.2582 - accuracy: 0.9063 - val_loss: 0.6556 - val_accuracy: 0.7772\n",
            "Epoch 7/200\n",
            "188/188 [==============================] - 35s 188ms/step - loss: 0.2158 - accuracy: 0.9204 - val_loss: 0.7017 - val_accuracy: 0.7704\n",
            "Epoch 8/200\n",
            "188/188 [==============================] - 36s 192ms/step - loss: 0.1575 - accuracy: 0.9411 - val_loss: 0.8000 - val_accuracy: 0.7657\n",
            "Epoch 9/200\n",
            "188/188 [==============================] - 35s 188ms/step - loss: 0.1343 - accuracy: 0.9535 - val_loss: 0.8314 - val_accuracy: 0.7554\n"
          ]
        }
      ]
    },
    {
      "cell_type": "code",
      "metadata": {
        "id": "s8ZneuLAggq9"
      },
      "source": [
        "def createModel(num_of_words, max_len, embedMatrix, lstm_units, num_classes):\n",
        "  import tensorflow\n",
        "  #creating the embedding layer\n",
        "  embedding_layer = Embedding(input_dim=num_of_words,output_dim=max_len,weights=[embedMatrix],input_length=max_len,trainable=False)\n",
        "  #input_layer\n",
        "  input_layer = Input((max_len,),name='InputLayer')\n",
        "  #embedding layer\n",
        "  embedding_layer = embedding_layer(input_layer)\n",
        "  #bi-directional LSTM layer\n",
        "  lstm = Bidirectional(LSTM(50,return_sequences=True))(embedding_layer)\n",
        "  #dropout layer\n",
        "  drop_lstm = Dropout(0.3)(lstm)\n",
        "  first_conv_layer = Conv1D(100, 3, activation='relu')(drop_lstm)\n",
        "  first_max_pooling_layer = MaxPooling1D(3)(first_conv_layer)\n",
        "  second_conv_layer = Conv1D(100, 4, activation='relu')(first_conv_layer)\n",
        "  second_max_pooling_layer = MaxPooling1D(4)(second_conv_layer)\n",
        "  third_conv_layer = Conv1D(100, 5, activation='relu')(second_max_pooling_layer)\n",
        "  third_max_pooling_layer = MaxPooling1D(5)(third_conv_layer)\n",
        "  merged = Concatenate(axis=1)([first_max_pooling_layer,second_max_pooling_layer,third_max_pooling_layer])\n",
        "  context_vector = GlobalMaxPool1D()(merged)\n",
        "\n",
        "  #attention mechanism\n",
        "  densor1 = Dense(10, activation = \"tanh\")\n",
        "  densor2 = Dense(100, activation = \"relu\")\n",
        "  activator = Activation('softmax', name='attention_weights')\n",
        "  dotor = Dot(axes = 1)\n",
        "  hidden_size = int(lstm.shape[2])\n",
        "  h_t = Lambda(lambda x: x[:, -1, :], output_shape=(hidden_size,), name='last_hidden_state')(lstm)\n",
        "  pre_activation = Concatenate(axis=1)([context_vector, h_t])\n",
        "  e = densor1(pre_activation)\n",
        "  energies = densor2(e)\n",
        "  alphas = activator(energies)\n",
        "  s = dotor([alphas, lstm])\n",
        "  output_layer = Dense(3, use_bias=False, activation='softmax', name='attention_vector')(s)\n",
        "  model = Model(input_layer,output_layer)\n",
        "  model.compile(\n",
        "          loss='categorical_crossentropy',\n",
        "          optimizer=Adam(learning_rate=0.001),\n",
        "          metrics=['accuracy']\n",
        "              )\n",
        "  return model\n",
        "\n",
        "model = createModel(num_of_words, max_len, embedMatrix, lstm_units=50, num_classes=3)"
      ],
      "execution_count": 22,
      "outputs": []
    },
    {
      "cell_type": "code",
      "metadata": {
        "id": "4_dOrK4NLN8D",
        "colab": {
          "base_uri": "https://localhost:8080/"
        },
        "outputId": "ed219ed8-6535-4e78-d72a-beb70e2bbd10"
      },
      "source": [
        "from tensorflow.keras.callbacks import Callback\n",
        "import tensorflow\n",
        "\n",
        "class MyThresholdCallback(tensorflow.keras.callbacks.Callback):\n",
        "    def __init__(self, threshold):\n",
        "        super(MyThresholdCallback, self).__init__()\n",
        "        self.threshold = threshold\n",
        "\n",
        "    def on_epoch_end(self, epoch, logs=None): \n",
        "        acc = logs[\"accuracy\"]\n",
        "        if acc >= self.threshold:\n",
        "            self.model.stop_training = True\n",
        "\n",
        "\n",
        "callback=MyThresholdCallback(threshold=0.81)\n",
        "r2 = model.fit(\n",
        "           X_train, y_train,\n",
        "            batch_size=50,\n",
        "            epochs=200,\n",
        "            validation_split=0.2,\n",
        "            callbacks=[callback]  \n",
        "            )"
      ],
      "execution_count": 23,
      "outputs": [
        {
          "output_type": "stream",
          "name": "stdout",
          "text": [
            "Epoch 1/200\n",
            "188/188 [==============================] - 43s 204ms/step - loss: 0.7811 - accuracy: 0.6683 - val_loss: 0.6882 - val_accuracy: 0.7281\n",
            "Epoch 2/200\n",
            "188/188 [==============================] - 37s 197ms/step - loss: 0.6273 - accuracy: 0.7454 - val_loss: 0.6094 - val_accuracy: 0.7482\n",
            "Epoch 3/200\n",
            "188/188 [==============================] - 36s 193ms/step - loss: 0.5745 - accuracy: 0.7669 - val_loss: 0.5915 - val_accuracy: 0.7546\n",
            "Epoch 4/200\n",
            "188/188 [==============================] - 37s 194ms/step - loss: 0.5419 - accuracy: 0.7810 - val_loss: 0.5530 - val_accuracy: 0.7704\n",
            "Epoch 5/200\n",
            "188/188 [==============================] - 37s 194ms/step - loss: 0.5223 - accuracy: 0.7882 - val_loss: 0.5633 - val_accuracy: 0.7640\n",
            "Epoch 6/200\n",
            "188/188 [==============================] - 36s 194ms/step - loss: 0.5041 - accuracy: 0.7962 - val_loss: 0.5483 - val_accuracy: 0.7746\n",
            "Epoch 7/200\n",
            "188/188 [==============================] - 37s 197ms/step - loss: 0.4722 - accuracy: 0.8104 - val_loss: 0.5354 - val_accuracy: 0.7798\n"
          ]
        }
      ]
    },
    {
      "cell_type": "code",
      "metadata": {
        "colab": {
          "base_uri": "https://localhost:8080/",
          "height": 545
        },
        "id": "VykAaBF2lsPk",
        "outputId": "adba813e-2a34-4134-83f6-0d71ba151d9a"
      },
      "source": [
        "import matplotlib.pyplot as plt\n",
        "\n",
        "acc = r2.history['accuracy']\n",
        "val_acc = r2.history['val_accuracy']\n",
        "loss = r2.history['loss']\n",
        "val_loss = r2.history['val_loss']\n",
        "epochs = range(1, len(acc) + 1)\n",
        "plt.plot(epochs, acc, label='Training acc')\n",
        "plt.plot(epochs, val_acc, label='Validation acc')\n",
        "plt.title('Training and validation accuracy')\n",
        "plt.legend()\n",
        "plt.figure()\n",
        "plt.plot(epochs, loss, label='Training loss')\n",
        "plt.plot(epochs, val_loss,label='Validation loss')\n",
        "plt.title('Training and validation loss')\n",
        "plt.legend()\n",
        "plt.show()"
      ],
      "execution_count": 24,
      "outputs": [
        {
          "output_type": "display_data",
          "data": {
            "image/png": "[encoded data removed]",
            "text/plain": [
              "<Figure size 432x288 with 1 Axes>"
            ]
          },
          "metadata": {
            "needs_background": "light"
          }
        },
        {
          "output_type": "display_data",
          "data": {
            "image/png": "[encoded data removed]",
            "text/plain": [
              "<Figure size 432x288 with 1 Axes>"
            ]
          },
          "metadata": {
            "needs_background": "light"
          }
        }
      ]
    },
    {
      "cell_type": "code",
      "metadata": {
        "id": "qAbo6O8f0RtR"
      },
      "source": [
        "model.save(\"bilstmCNNAtt.h5\")"
      ],
      "execution_count": 42,
      "outputs": []
    },
    {
      "cell_type": "code",
      "metadata": {
        "id": "vlWLPJfyZ9oh"
      },
      "source": [
        "from modelUtility import predictionFunction\n",
        "predictionFunction(X_test,dataCopy,model,labels = ['positive', 'negative', 'neutral'])"
      ],
      "execution_count": 41,
      "outputs": []
    },
    {
      "cell_type": "markdown",
      "metadata": {
        "id": "0bzmYWQpsc13"
      },
      "source": [
        "#Model evaluation"
      ]
    },
    {
      "cell_type": "code",
      "metadata": {
        "colab": {
          "base_uri": "https://localhost:8080/",
          "height": 602
        },
        "id": "nYIY5IQxqd1d",
        "outputId": "bb367135-7b59-4c6a-a539-7c38821917e9"
      },
      "source": [
        "from modelUtility import confusionMatrix\n",
        "confusionMatrix(model, X_test, y_test)"
      ],
      "execution_count": 45,
      "outputs": [
        {
          "output_type": "stream",
          "name": "stdout",
          "text": [
            "Confusion matrix: \n",
            "[[ 312   81   66]\n",
            " [  47 1676  166]\n",
            " [  48  194  338]]\n",
            "Prediction Accuracy: \n",
            "Accuracy of Positive class in % : \n",
            "67.97385620915033\n",
            "Accuracy of Negative class in %: \n",
            "88.72419269454738\n",
            "Accuracy of Neutral class in %\n",
            "58.27586206896552\n"
          ]
        },
        {
          "output_type": "display_data",
          "data": {
            "image/png": "[encoded data removed]",
            "text/plain": [
              "<Figure size 576x432 with 2 Axes>"
            ]
          },
          "metadata": {
            "needs_background": "light"
          }
        }
      ]
    },
    {
      "cell_type": "code",
      "metadata": {
        "colab": {
          "base_uri": "https://localhost:8080/"
        },
        "id": "XWbrEuw4nnot",
        "outputId": "bee1df54-6a6f-4656-ebd8-9ec0f673dd4c"
      },
      "source": [
        "dataCopy.airline_sentiment.value_counts()"
      ],
      "execution_count": 33,
      "outputs": [
        {
          "output_type": "execute_result",
          "data": {
            "text/plain": [
              "negative    9178\n",
              "neutral     3099\n",
              "positive    2363\n",
              "Name: airline_sentiment, dtype: int64"
            ]
          },
          "metadata": {},
          "execution_count": 33
        }
      ]
    }
  ]
}