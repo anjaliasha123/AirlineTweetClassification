{
  "nbformat": 4,
  "nbformat_minor": 0,
  "metadata": {
    "colab": {
      "name": "BiLSTMCNNAtt.ipynb",
      "provenance": [],
      "collapsed_sections": [],
      "mount_file_id": "1CCdrQjSMwaPeprd_7ezcjONE3t_9_Un-",
      "authorship_tag": "ABX9TyOxmTNWlF3OEmHfI5XVA/UL"
    },
    "kernelspec": {
      "name": "python3",
      "display_name": "Python 3"
    },
    "language_info": {
      "name": "python"
    }
  },
  "cells": [
    {
      "cell_type": "code",
      "metadata": {
        "colab": {
          "base_uri": "https://localhost:8080/"
        },
        "id": "cJ-w_DdPm7-_",
        "outputId": "e98f8cc2-797d-4f7e-888e-4d10ca60987d"
      },
      "source": [
        "from google.colab import drive\n",
        "drive.mount('/content/gdrive')"
      ],
      "execution_count": 1,
      "outputs": [
        {
          "output_type": "stream",
          "name": "stdout",
          "text": [
            "Mounted at /content/gdrive\n"
          ]
        }
      ]
    },
    {
      "cell_type": "markdown",
      "metadata": {
        "id": "_xjTDSlgsKUx"
      },
      "source": [
        "Initial required libraries"
      ]
    },
    {
      "cell_type": "code",
      "metadata": {
        "id": "3zgZ4NdRswRG"
      },
      "source": [
        "import os\n",
        "import sys\n",
        "import numpy as np\n",
        "import pandas as pd\n",
        "import matplotlib.pyplot as plt"
      ],
      "execution_count": 2,
      "outputs": []
    },
    {
      "cell_type": "markdown",
      "metadata": {
        "id": "LGM6AOeUfn0V"
      },
      "source": [
        "#Loading the Dataset\n",
        "*About the data:* <br>\n",
        "The data is an twitter comments of various US Airlines having sentiments of the tweet: positive, negative or neutral.\n",
        "\n",
        "*Columns:* <br>\n",
        "\n",
        "\n",
        "1.   text: The actual tweet\n",
        "2.   airline: Name of the airline tweeted about\n",
        "3. latitude, longitude: Location of the tweet\n",
        "4. airline_sentiment_confidence : Confidence of the sentiment classification of the tweet\n",
        "5. airline_sentiment: Sentiment of the tweet\n"
      ]
    },
    {
      "cell_type": "code",
      "metadata": {
        "id": "1evzfj8A0ix7",
        "colab": {
          "base_uri": "https://localhost:8080/"
        },
        "outputId": "41b7aab6-50be-48d0-f10f-22d40a431556"
      },
      "source": [
        "#intializing global variables\n",
        "data = pd.read_csv('https://raw.githubusercontent.com/anjaliasha123/Data_Visualization_projects/master/Streamlit_python/Tweets.csv')\n",
        "print(data.text.head(2))\n",
        "print(data.airline_sentiment.head(2))\n",
        "data['LABEL'] = 0\n",
        "data.loc[data.airline_sentiment == 'positive', 'LABEL'] = 0\n",
        "data.loc[data.airline_sentiment == 'negative', 'LABEL'] = 1\n",
        "data.loc[data.airline_sentiment == 'neutral', 'LABEL'] = 2\n",
        "print(data['LABEL'][:10])"
      ],
      "execution_count": 3,
      "outputs": [
        {
          "output_type": "stream",
          "name": "stdout",
          "text": [
            "0                  @VirginAmerica What @dhepburn said.\n",
            "1    @VirginAmerica plus you've added commercials t...\n",
            "Name: text, dtype: object\n",
            "0     neutral\n",
            "1    positive\n",
            "Name: airline_sentiment, dtype: object\n",
            "0    2\n",
            "1    0\n",
            "2    2\n",
            "3    1\n",
            "4    1\n",
            "5    1\n",
            "6    0\n",
            "7    2\n",
            "8    0\n",
            "9    0\n",
            "Name: LABEL, dtype: int64\n"
          ]
        }
      ]
    },
    {
      "cell_type": "code",
      "metadata": {
        "id": "MSgZH_S2jvFX"
      },
      "source": [
        "dataCopy = data"
      ],
      "execution_count": 4,
      "outputs": []
    },
    {
      "cell_type": "markdown",
      "metadata": {
        "id": "5L5Lsf4UhvQe"
      },
      "source": [
        "For the purpose of this project, we are considering only the 'text' column of the Xdata"
      ]
    },
    {
      "cell_type": "markdown",
      "metadata": {
        "id": "Y_5JFPHehyTF"
      },
      "source": [
        "#MOST COMMON VARIABLES:\n",
        "\n",
        "\n",
        "*   most_common : for the most common words of the dictionary\n",
        "*   max_len :\n",
        "* epochs : Number of times the training of the model must be done. It is a value that determines when a model should stop its training explicitly.\n",
        "* embed_dim : Dimension of a word vector\n",
        "* batch_size : size of a batch to train during each itteration of model training\n"
      ]
    },
    {
      "cell_type": "code",
      "metadata": {
        "id": "qKSWX_szgET9"
      },
      "source": [
        "most_common = 20000 #number of vocabs to be considered for the embedding matrix\n",
        "max_len = 100 \n",
        "epochs = 10\n",
        "embed_dim = 100\n",
        "batch_size = 100"
      ],
      "execution_count": 5,
      "outputs": []
    },
    {
      "cell_type": "markdown",
      "metadata": {
        "id": "TUFt5krVj8lO"
      },
      "source": [
        "#Data Preprocessing\n",
        "\n",
        "\n",
        "\n",
        "*   We need to convert y labels into categorical values\n",
        "*   We need to convert the \n",
        "\n"
      ]
    },
    {
      "cell_type": "code",
      "metadata": {
        "id": "V2zwS1SI6slu",
        "colab": {
          "base_uri": "https://localhost:8080/"
        },
        "outputId": "60df1006-222b-4e66-c723-acffe7a35fea"
      },
      "source": [
        "from tensorflow.keras.utils import to_categorical\n",
        "labels = to_categorical(data['LABEL'], num_classes=3)\n",
        "print(labels[:10])"
      ],
      "execution_count": 6,
      "outputs": [
        {
          "output_type": "stream",
          "name": "stdout",
          "text": [
            "[[0. 0. 1.]\n",
            " [1. 0. 0.]\n",
            " [0. 0. 1.]\n",
            " [0. 1. 0.]\n",
            " [0. 1. 0.]\n",
            " [0. 1. 0.]\n",
            " [1. 0. 0.]\n",
            " [0. 0. 1.]\n",
            " [1. 0. 0.]\n",
            " [1. 0. 0.]]\n"
          ]
        }
      ]
    },
    {
      "cell_type": "code",
      "metadata": {
        "id": "t8gPjVZcd0yv",
        "colab": {
          "base_uri": "https://localhost:8080/"
        },
        "outputId": "c3f79e42-8771-43b8-e555-02c958c3c3c4"
      },
      "source": [
        "from tensorflow.keras.preprocessing.text import Tokenizer\n",
        "from tensorflow.keras.preprocessing.sequence import pad_sequences\n",
        "from utilsfunction import dataPreprocessing\n",
        "\n",
        "pX, size_unique_wordsX, wordIndex = dataPreprocessing(most_common,data)"
      ],
      "execution_count": 8,
      "outputs": [
        {
          "output_type": "stream",
          "name": "stdout",
          "text": [
            "Drive already mounted at /content/gdrive; to attempt to forcibly remount, call drive.mount(\"/content/gdrive\", force_remount=True).\n",
            "Found 15768 unique tokens.\n"
          ]
        }
      ]
    },
    {
      "cell_type": "markdown",
      "metadata": {
        "id": "InM7ydfJkeI1"
      },
      "source": [
        "#Train-test split\n",
        "* 80% train data and 20 % test data\n",
        "\n"
      ]
    },
    {
      "cell_type": "code",
      "metadata": {
        "id": "mwk8od_uktke"
      },
      "source": [
        "from sklearn.model_selection import train_test_split\n",
        "X_train, X_test, y_train, y_test = train_test_split(pX , labels, test_size=0.2, random_state=42)"
      ],
      "execution_count": 9,
      "outputs": []
    },
    {
      "cell_type": "code",
      "metadata": {
        "colab": {
          "base_uri": "https://localhost:8080/"
        },
        "id": "E98Pr8AVk1Yl",
        "outputId": "8a257c44-fa1d-48ff-ac97-24aead59f0ff"
      },
      "source": [
        "print('Training shape X: {} y:{}'.format(X_train.shape, y_train.shape))\n",
        "print('Testing shape X: {} y:{}'.format(X_test.shape, y_test.shape))"
      ],
      "execution_count": 10,
      "outputs": [
        {
          "output_type": "stream",
          "name": "stdout",
          "text": [
            "Training shape X: (11712, 100) y:(11712, 3)\n",
            "Testing shape X: (2928, 100) y:(2928, 3)\n"
          ]
        }
      ]
    },
    {
      "cell_type": "markdown",
      "metadata": {
        "id": "1Nr5UJRRtJaR"
      },
      "source": [
        "#Creating the WordToVector dictionary"
      ]
    },
    {
      "cell_type": "code",
      "metadata": {
        "id": "GMz97Spar0Ve"
      },
      "source": [
        "from utilsfunction import createEmbeddingMatrix\n",
        "\n",
        "embedMatrix, num_of_words = createEmbeddingMatrix(wordIndex)"
      ],
      "execution_count": 11,
      "outputs": []
    },
    {
      "cell_type": "code",
      "metadata": {
        "colab": {
          "base_uri": "https://localhost:8080/"
        },
        "id": "5Aeb4pDSsiQx",
        "outputId": "248eaa2d-bad0-4324-cce3-f897313b07fa"
      },
      "source": [
        "embedMatrix.shape"
      ],
      "execution_count": 12,
      "outputs": [
        {
          "output_type": "execute_result",
          "data": {
            "text/plain": [
              "(15769, 100)"
            ]
          },
          "metadata": {},
          "execution_count": 12
        }
      ]
    },
    {
      "cell_type": "markdown",
      "metadata": {
        "id": "JunXx8SgWrRn"
      },
      "source": [
        "#Creating the Model"
      ]
    },
    {
      "cell_type": "code",
      "metadata": {
        "id": "tbkFviihvXYd"
      },
      "source": [
        "def attentionLayer(hidden_vectors,cnn_vector):\n",
        "  hidden_size = int(hidden_vectors.shape[2])\n",
        "  preActivation = Dense(hidden_size, use_bias=False, activation= \"tanh\")(cnn_vector)\n",
        "  h_t = Lambda(lambda x: x[:, -1, :], output_shape=(hidden_size,), name='last_hidden_state')(hidden_vectors)\n",
        "  score = dot([cnn_vector,h_t], [2, 1])\n",
        "  alphas = Activation('softmax')(score)\n",
        "  contextVector = Dot(axes=[1, 1], name='context_vector')([cnn_vector, alphas])\n",
        "  return contextVector\n"
      ],
      "execution_count": 29,
      "outputs": []
    },
    {
      "cell_type": "code",
      "metadata": {
        "id": "IRX8bHrtP_j5"
      },
      "source": [
        "from tensorflow.keras.layers import Embedding\n",
        "from tensorflow.keras.layers import Input\n",
        "from tensorflow.keras.layers import Dense\n",
        "from tensorflow.keras.layers import GlobalMaxPooling1D, Dropout\n",
        "from tensorflow.keras.layers import LSTM, Bidirectional\n",
        "from tensorflow.keras.layers import Dense, Lambda, Dot, Activation, Concatenate, dot\n",
        "from tensorflow.keras.layers import Conv1D, MaxPooling1D,GlobalMaxPool1D\n",
        "from tensorflow.keras.models import Model\n",
        "from tensorflow.keras.optimizers import  Adam\n",
        "from tensorflow.keras.callbacks import Callback\n",
        "import tensorflow\n",
        "def createModel(num_of_words, max_len, embedMatrix, lstm_units, num_classes):\n",
        "  #creating the embedding layer\n",
        "  embedding_layer = Embedding(input_dim=num_of_words,output_dim=max_len,weights=[embedMatrix],input_length=max_len,trainable=False)\n",
        "  #input_layer\n",
        "  input_layer = Input((max_len,),name='InputLayer')\n",
        "  #embedding layer\n",
        "  embedding_layer = embedding_layer(input_layer)\n",
        "  #bi-directional LSTM layer\n",
        "  lstm = Bidirectional(LSTM(50,return_sequences=True))(embedding_layer)\n",
        "  #dropout layer\n",
        "  drop_lstm = Dropout(0.3)(lstm)\n",
        "  #CNN layers\n",
        "  first_conv_layer = Conv1D(100, 3, activation='relu')(lstm)\n",
        "  first_conv_max_pooling = MaxPooling1D(3)(first_conv_layer)\n",
        "\n",
        "  #attention mechanism\n",
        "  attention = attentionLayer(lstm, first_conv_max_pooling ) \n",
        "  output_layer = Dense(3, use_bias=False, activation='softmax', name='attention_vector')(attention)\n",
        "  model = Model(input_layer,output_layer)\n",
        "  model.compile(\n",
        "          loss='categorical_crossentropy',\n",
        "          optimizer=Adam(learning_rate=0.01),\n",
        "          metrics=['accuracy']\n",
        "              )\n",
        "  return model\n",
        "\n",
        "model = createModel(num_of_words, max_len, embedMatrix, lstm_units=50, num_classes=3)"
      ],
      "execution_count": 30,
      "outputs": []
    },
    {
      "cell_type": "code",
      "metadata": {
        "colab": {
          "base_uri": "https://localhost:8080/"
        },
        "id": "AOQKDxwPXzK0",
        "outputId": "8977da7e-1dd0-49e7-bb64-244f46da54f7"
      },
      "source": [
        "from tensorflow.keras.callbacks import Callback\n",
        "import tensorflow\n",
        "\n",
        "class MyThresholdCallback(tensorflow.keras.callbacks.Callback):\n",
        "    def __init__(self, threshold):\n",
        "        super(MyThresholdCallback, self).__init__()\n",
        "        self.threshold = threshold\n",
        "\n",
        "    def on_epoch_end(self, epoch, logs=None): \n",
        "        acc = logs[\"accuracy\"]\n",
        "        if acc >= self.threshold:\n",
        "            self.model.stop_training = True\n",
        "\n",
        "\n",
        "callback=MyThresholdCallback(threshold=0.95)\n",
        "r = model.fit(\n",
        "           X_train, y_train,\n",
        "            batch_size=50,\n",
        "            epochs=200,\n",
        "            validation_split=0.2,\n",
        "            callbacks=[callback]  \n",
        "            )"
      ],
      "execution_count": 31,
      "outputs": [
        {
          "output_type": "stream",
          "name": "stdout",
          "text": [
            "Epoch 1/200\n",
            "188/188 [==============================] - 28s 127ms/step - loss: 0.6897 - accuracy: 0.7141 - val_loss: 0.6090 - val_accuracy: 0.7490\n",
            "Epoch 2/200\n",
            "188/188 [==============================] - 23s 122ms/step - loss: 0.5336 - accuracy: 0.7876 - val_loss: 0.5274 - val_accuracy: 0.7951\n",
            "Epoch 3/200\n",
            "188/188 [==============================] - 23s 123ms/step - loss: 0.4582 - accuracy: 0.8186 - val_loss: 0.5261 - val_accuracy: 0.7900\n",
            "Epoch 4/200\n",
            "188/188 [==============================] - 23s 124ms/step - loss: 0.4046 - accuracy: 0.8414 - val_loss: 0.5686 - val_accuracy: 0.7836\n",
            "Epoch 5/200\n",
            "188/188 [==============================] - 23s 123ms/step - loss: 0.3512 - accuracy: 0.8633 - val_loss: 0.5721 - val_accuracy: 0.7764\n",
            "Epoch 6/200\n",
            "188/188 [==============================] - 23s 125ms/step - loss: 0.2986 - accuracy: 0.8857 - val_loss: 0.6252 - val_accuracy: 0.7768\n",
            "Epoch 7/200\n",
            "188/188 [==============================] - 23s 123ms/step - loss: 0.2673 - accuracy: 0.8995 - val_loss: 0.7826 - val_accuracy: 0.7772\n",
            "Epoch 8/200\n",
            "188/188 [==============================] - 23s 124ms/step - loss: 0.2580 - accuracy: 0.9004 - val_loss: 0.7650 - val_accuracy: 0.7815\n",
            "Epoch 9/200\n",
            "188/188 [==============================] - 23s 124ms/step - loss: 0.2165 - accuracy: 0.9222 - val_loss: 0.7904 - val_accuracy: 0.7593\n",
            "Epoch 10/200\n",
            "188/188 [==============================] - 23s 124ms/step - loss: 0.1784 - accuracy: 0.9339 - val_loss: 0.9531 - val_accuracy: 0.7580\n",
            "Epoch 11/200\n",
            "188/188 [==============================] - 23s 124ms/step - loss: 0.1707 - accuracy: 0.9361 - val_loss: 1.0061 - val_accuracy: 0.7717\n",
            "Epoch 12/200\n",
            "188/188 [==============================] - 23s 124ms/step - loss: 0.1820 - accuracy: 0.9312 - val_loss: 0.8666 - val_accuracy: 0.7682\n",
            "Epoch 13/200\n",
            "188/188 [==============================] - 23s 124ms/step - loss: 0.1875 - accuracy: 0.9331 - val_loss: 1.0269 - val_accuracy: 0.7461\n",
            "Epoch 14/200\n",
            "188/188 [==============================] - 23s 124ms/step - loss: 0.1630 - accuracy: 0.9404 - val_loss: 1.0519 - val_accuracy: 0.7712\n",
            "Epoch 15/200\n",
            "188/188 [==============================] - 23s 124ms/step - loss: 0.1251 - accuracy: 0.9534 - val_loss: 1.1420 - val_accuracy: 0.7670\n"
          ]
        }
      ]
    },
    {
      "cell_type": "code",
      "metadata": {
        "colab": {
          "base_uri": "https://localhost:8080/",
          "height": 545
        },
        "id": "VykAaBF2lsPk",
        "outputId": "15e95f41-9c60-4c8a-e40c-268f713fffef"
      },
      "source": [
        "import matplotlib.pyplot as plt\n",
        "\n",
        "acc = r.history['accuracy']\n",
        "val_acc = r.history['val_accuracy']\n",
        "loss = r.history['loss']\n",
        "val_loss = r.history['val_loss']\n",
        "epochs = range(1, len(acc) + 1)\n",
        "plt.plot(epochs, acc, label='Training acc')\n",
        "plt.plot(epochs, val_acc, label='Validation acc')\n",
        "plt.title('Training and validation accuracy')\n",
        "plt.legend()\n",
        "plt.figure()\n",
        "plt.plot(epochs, loss, label='Training loss')\n",
        "plt.plot(epochs, val_loss,label='Validation loss')\n",
        "plt.title('Training and validation loss')\n",
        "plt.legend()\n",
        "plt.show()"
      ],
      "execution_count": 33,
      "outputs": [
        {
          "output_type": "display_data",
          "data": {
            "image/png": "[encoded data removed]",
            "text/plain": [
              "<Figure size 432x288 with 1 Axes>"
            ]
          },
          "metadata": {
            "needs_background": "light"
          }
        },
        {
          "output_type": "display_data",
          "data": {
            "image/png": "[encoded data removed]",
            "text/plain": [
              "<Figure size 432x288 with 1 Axes>"
            ]
          },
          "metadata": {
            "needs_background": "light"
          }
        }
      ]
    },
    {
      "cell_type": "code",
      "metadata": {
        "id": "qAbo6O8f0RtR"
      },
      "source": [
        "model.save(\"bilstmCNNAtt.h5\")"
      ],
      "execution_count": null,
      "outputs": []
    },
    {
      "cell_type": "code",
      "metadata": {
        "id": "vlWLPJfyZ9oh"
      },
      "source": [
        "from modelutility import predictionFunction\n",
        "predictionFunction(X_test,dataCopy,model,labels = ['positive', 'negative', 'neutral'])"
      ],
      "execution_count": 38,
      "outputs": []
    },
    {
      "cell_type": "markdown",
      "metadata": {
        "id": "0bzmYWQpsc13"
      },
      "source": [
        "#Model evaluation"
      ]
    },
    {
      "cell_type": "code",
      "metadata": {
        "colab": {
          "base_uri": "https://localhost:8080/",
          "height": 602
        },
        "id": "nYIY5IQxqd1d",
        "outputId": "b8de9ffd-d37f-4578-ea44-c700cd1bbe3f"
      },
      "source": [
        "from modelutility import confusionMatrix\n",
        "confusionMatrix(model, X_test, y_test)"
      ],
      "execution_count": 37,
      "outputs": [
        {
          "output_type": "stream",
          "name": "stdout",
          "text": [
            "Confusion matrix: \n",
            "[[ 287   89   83]\n",
            " [  52 1688  149]\n",
            " [  50  203  327]]\n",
            "Prediction Accuracy: \n",
            "Accuracy of Positive class in % : \n",
            "62.527233115468405\n",
            "Accuracy of Negative class in %: \n",
            "89.35944944415034\n",
            "Accuracy of Neutral class in %\n",
            "56.37931034482758\n"
          ]
        },
        {
          "output_type": "display_data",
          "data": {
            "image/png": "[encoded data removed]",
            "text/plain": [
              "<Figure size 576x432 with 2 Axes>"
            ]
          },
          "metadata": {
            "needs_background": "light"
          }
        }
      ]
    },
    {
      "cell_type": "code",
      "metadata": {
        "colab": {
          "base_uri": "https://localhost:8080/"
        },
        "id": "XWbrEuw4nnot",
        "outputId": "bee1df54-6a6f-4656-ebd8-9ec0f673dd4c"
      },
      "source": [
        "dataCopy.airline_sentiment.value_counts()"
      ],
      "execution_count": null,
      "outputs": [
        {
          "output_type": "execute_result",
          "data": {
            "text/plain": [
              "negative    9178\n",
              "neutral     3099\n",
              "positive    2363\n",
              "Name: airline_sentiment, dtype: int64"
            ]
          },
          "metadata": {},
          "execution_count": 33
        }
      ]
    }
  ]
}