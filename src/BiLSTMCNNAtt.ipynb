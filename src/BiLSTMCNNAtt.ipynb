{
  "nbformat": 4,
  "nbformat_minor": 0,
  "metadata": {
    "colab": {
      "name": "BiLSTMCNNAtt.ipynb",
      "provenance": [],
      "collapsed_sections": [],
      "mount_file_id": "1CCdrQjSMwaPeprd_7ezcjONE3t_9_Un-",
      "authorship_tag": "ABX9TyOjEGer6YIEktBYupMAZ4fY"
    },
    "kernelspec": {
      "name": "python3",
      "display_name": "Python 3"
    },
    "language_info": {
      "name": "python"
    }
  },
  "cells": [
    {
      "cell_type": "code",
      "metadata": {
        "colab": {
          "base_uri": "https://localhost:8080/"
        },
        "id": "cJ-w_DdPm7-_",
        "outputId": "a8dc9bbd-efc5-4688-fb96-9dc6d882e119"
      },
      "source": [
        "from google.colab import drive\n",
        "drive.mount('/content/gdrive')"
      ],
      "execution_count": 1,
      "outputs": [
        {
          "output_type": "stream",
          "name": "stdout",
          "text": [
            "Mounted at /content/gdrive\n"
          ]
        }
      ]
    },
    {
      "cell_type": "markdown",
      "metadata": {
        "id": "_xjTDSlgsKUx"
      },
      "source": [
        "Initial required libraries"
      ]
    },
    {
      "cell_type": "code",
      "metadata": {
        "id": "3zgZ4NdRswRG"
      },
      "source": [
        "import os\n",
        "import sys\n",
        "import numpy as np\n",
        "import pandas as pd\n",
        "import matplotlib.pyplot as plt"
      ],
      "execution_count": 2,
      "outputs": []
    },
    {
      "cell_type": "markdown",
      "metadata": {
        "id": "LGM6AOeUfn0V"
      },
      "source": [
        "#Loading the Dataset\n",
        "*About the data:* <br>\n",
        "The data is an twitter comments of various US Airlines having sentiments of the tweet: positive, negative or neutral.\n",
        "\n",
        "*Columns:* <br>\n",
        "\n",
        "\n",
        "1.   text: The actual tweet\n",
        "2.   airline: Name of the airline tweeted about\n",
        "3. latitude, longitude: Location of the tweet\n",
        "4. airline_sentiment_confidence : Confidence of the sentiment classification of the tweet\n",
        "5. airline_sentiment: Sentiment of the tweet\n"
      ]
    },
    {
      "cell_type": "code",
      "metadata": {
        "id": "1evzfj8A0ix7",
        "colab": {
          "base_uri": "https://localhost:8080/"
        },
        "outputId": "3e17c2f8-6651-4fec-bdd6-5f00896194e9"
      },
      "source": [
        "#intializing global variables\n",
        "data = pd.read_csv('https://raw.githubusercontent.com/anjaliasha123/Data_Visualization_projects/master/Streamlit_python/Tweets.csv', usecols=['text','airline_sentiment'])\n",
        "print(data.text.head(2))\n",
        "print(data.airline_sentiment.value_counts())\n",
        "num_of_categories = 2363\n",
        "data = data.reindex(np.random.permutation(data.index))\n",
        "positive = data[data['airline_sentiment'] == 'positive'][:num_of_categories]\n",
        "negative = data[data['airline_sentiment'] == 'negative'][:num_of_categories]\n",
        "neutral = data[data['airline_sentiment'] == 'neutral'][:num_of_categories]\n",
        "data = pd.concat([positive,negative,neutral], ignore_index=True)\n",
        "data = data.reindex(np.random.permutation(data.index))\n",
        "print(data.shape)\n",
        "data.to_csv('dataset.csv')\n"
      ],
      "execution_count": 9,
      "outputs": [
        {
          "output_type": "stream",
          "name": "stdout",
          "text": [
            "0                  @VirginAmerica What @dhepburn said.\n",
            "1    @VirginAmerica plus you've added commercials t...\n",
            "Name: text, dtype: object\n",
            "negative    9178\n",
            "neutral     3099\n",
            "positive    2363\n",
            "Name: airline_sentiment, dtype: int64\n",
            "(7089, 2)\n"
          ]
        }
      ]
    },
    {
      "cell_type": "code",
      "metadata": {
        "colab": {
          "base_uri": "https://localhost:8080/",
          "height": 203
        },
        "id": "zHXSVu-9zK2r",
        "outputId": "9fbc4748-b225-4c85-996c-41c14659bd14"
      },
      "source": [
        "data.head(5)"
      ],
      "execution_count": 16,
      "outputs": [
        {
          "output_type": "execute_result",
          "data": {
            "text/html": [
              "<div>\n",
              "<style scoped>\n",
              "    .dataframe tbody tr th:only-of-type {\n",
              "        vertical-align: middle;\n",
              "    }\n",
              "\n",
              "    .dataframe tbody tr th {\n",
              "        vertical-align: top;\n",
              "    }\n",
              "\n",
              "    .dataframe thead th {\n",
              "        text-align: right;\n",
              "    }\n",
              "</style>\n",
              "<table border=\"1\" class=\"dataframe\">\n",
              "  <thead>\n",
              "    <tr style=\"text-align: right;\">\n",
              "      <th></th>\n",
              "      <th>airline_sentiment</th>\n",
              "      <th>text</th>\n",
              "      <th>LABEL</th>\n",
              "    </tr>\n",
              "  </thead>\n",
              "  <tbody>\n",
              "    <tr>\n",
              "      <th>5755</th>\n",
              "      <td>neutral</td>\n",
              "      <td>@united Educate Bohol is a 501(c)(3) w/all vol...</td>\n",
              "      <td>2</td>\n",
              "    </tr>\n",
              "    <tr>\n",
              "      <th>2633</th>\n",
              "      <td>negative</td>\n",
              "      <td>@JetBlue I'm disappointed my flight was Cancel...</td>\n",
              "      <td>1</td>\n",
              "    </tr>\n",
              "    <tr>\n",
              "      <th>5087</th>\n",
              "      <td>neutral</td>\n",
              "      <td>@VirginAmerica are flights leaving Dallas for ...</td>\n",
              "      <td>2</td>\n",
              "    </tr>\n",
              "    <tr>\n",
              "      <th>875</th>\n",
              "      <td>positive</td>\n",
              "      <td>@united provide a voucher for one of my custom...</td>\n",
              "      <td>0</td>\n",
              "    </tr>\n",
              "    <tr>\n",
              "      <th>4436</th>\n",
              "      <td>negative</td>\n",
              "      <td>@SouthwestAir no had to rebook my flight mysel...</td>\n",
              "      <td>1</td>\n",
              "    </tr>\n",
              "  </tbody>\n",
              "</table>\n",
              "</div>"
            ],
            "text/plain": [
              "     airline_sentiment  ... LABEL\n",
              "5755           neutral  ...     2\n",
              "2633          negative  ...     1\n",
              "5087           neutral  ...     2\n",
              "875           positive  ...     0\n",
              "4436          negative  ...     1\n",
              "\n",
              "[5 rows x 3 columns]"
            ]
          },
          "metadata": {},
          "execution_count": 16
        }
      ]
    },
    {
      "cell_type": "code",
      "metadata": {
        "colab": {
          "base_uri": "https://localhost:8080/"
        },
        "id": "-xbUcRVLzcQi",
        "outputId": "28101b09-e135-4eb3-f8d6-eb14ef884627"
      },
      "source": [
        "len(max(data.text.values, key=len))"
      ],
      "execution_count": 22,
      "outputs": [
        {
          "output_type": "execute_result",
          "data": {
            "text/plain": [
              "186"
            ]
          },
          "metadata": {},
          "execution_count": 22
        }
      ]
    },
    {
      "cell_type": "code",
      "metadata": {
        "colab": {
          "base_uri": "https://localhost:8080/"
        },
        "id": "5iwWiwUoydeR",
        "outputId": "fe98fe86-5303-44cc-f1bb-b43681be323c"
      },
      "source": [
        "data['LABEL'] = 0\n",
        "data.loc[data.airline_sentiment == 'positive', 'LABEL'] = 0\n",
        "data.loc[data.airline_sentiment == 'negative', 'LABEL'] = 1\n",
        "data.loc[data.airline_sentiment == 'neutral', 'LABEL'] = 2\n",
        "print(data['LABEL'][:10])"
      ],
      "execution_count": 10,
      "outputs": [
        {
          "output_type": "stream",
          "name": "stdout",
          "text": [
            "5755    2\n",
            "2633    1\n",
            "5087    2\n",
            "875     0\n",
            "4436    1\n",
            "4615    1\n",
            "5106    2\n",
            "4139    1\n",
            "1411    0\n",
            "1187    0\n",
            "Name: LABEL, dtype: int64\n"
          ]
        }
      ]
    },
    {
      "cell_type": "code",
      "metadata": {
        "id": "MSgZH_S2jvFX"
      },
      "source": [
        "dataCopy = data"
      ],
      "execution_count": 11,
      "outputs": []
    },
    {
      "cell_type": "markdown",
      "metadata": {
        "id": "5L5Lsf4UhvQe"
      },
      "source": [
        "For the purpose of this project, we are considering only the 'text' column of the Xdata"
      ]
    },
    {
      "cell_type": "markdown",
      "metadata": {
        "id": "Y_5JFPHehyTF"
      },
      "source": [
        "#MOST COMMON VARIABLES:\n",
        "\n",
        "\n",
        "*   most_common : for the most common words of the dictionary\n",
        "*   max_len :\n",
        "* epochs : Number of times the training of the model must be done. It is a value that determines when a model should stop its training explicitly.\n",
        "* embed_dim : Dimension of a word vector\n",
        "* batch_size : size of a batch to train during each itteration of model training\n"
      ]
    },
    {
      "cell_type": "code",
      "metadata": {
        "id": "qKSWX_szgET9"
      },
      "source": [
        "most_common = 20000 #number of vocabs to be considered for the embedding matrix\n",
        "max_len = 100 \n",
        "epochs = 10\n",
        "embed_dim = 100\n",
        "batch_size = 100"
      ],
      "execution_count": 13,
      "outputs": []
    },
    {
      "cell_type": "markdown",
      "metadata": {
        "id": "TUFt5krVj8lO"
      },
      "source": [
        "#Data Preprocessing\n",
        "\n",
        "\n",
        "\n",
        "*   We need to convert y labels into categorical values\n",
        "*   We need to convert the \n",
        "\n"
      ]
    },
    {
      "cell_type": "code",
      "metadata": {
        "id": "V2zwS1SI6slu",
        "colab": {
          "base_uri": "https://localhost:8080/"
        },
        "outputId": "acfeaa74-92c8-44ac-e3a8-2345d0299bd7"
      },
      "source": [
        "from tensorflow.keras.utils import to_categorical\n",
        "labels = to_categorical(data['LABEL'], num_classes=3)\n",
        "print(labels[:10])"
      ],
      "execution_count": 14,
      "outputs": [
        {
          "output_type": "stream",
          "name": "stdout",
          "text": [
            "[[0. 0. 1.]\n",
            " [0. 1. 0.]\n",
            " [0. 0. 1.]\n",
            " [1. 0. 0.]\n",
            " [0. 1. 0.]\n",
            " [0. 1. 0.]\n",
            " [0. 0. 1.]\n",
            " [0. 1. 0.]\n",
            " [1. 0. 0.]\n",
            " [1. 0. 0.]]\n"
          ]
        }
      ]
    },
    {
      "cell_type": "code",
      "metadata": {
        "id": "t8gPjVZcd0yv",
        "colab": {
          "base_uri": "https://localhost:8080/"
        },
        "outputId": "831ddbef-5feb-43bd-d3ad-4bd3c482e887"
      },
      "source": [
        "from tensorflow.keras.preprocessing.text import Tokenizer\n",
        "from tensorflow.keras.preprocessing.sequence import pad_sequences\n",
        "from utilsfunction import dataPreprocessing\n",
        "\n",
        "pX, size_unique_wordsX, wordIndex = dataPreprocessing(most_common,data)"
      ],
      "execution_count": 15,
      "outputs": [
        {
          "output_type": "stream",
          "name": "stdout",
          "text": [
            "Drive already mounted at /content/gdrive; to attempt to forcibly remount, call drive.mount(\"/content/gdrive\", force_remount=True).\n",
            "Found 10451 unique tokens.\n"
          ]
        }
      ]
    },
    {
      "cell_type": "markdown",
      "metadata": {
        "id": "InM7ydfJkeI1"
      },
      "source": [
        "#Train-test split\n",
        "* 80% train data and 20 % test data\n",
        "\n"
      ]
    },
    {
      "cell_type": "code",
      "metadata": {
        "id": "mwk8od_uktke"
      },
      "source": [
        "from sklearn.model_selection import train_test_split\n",
        "X_train, X_test, y_train, y_test = train_test_split(pX , labels, test_size=0.2, random_state=42)"
      ],
      "execution_count": 17,
      "outputs": []
    },
    {
      "cell_type": "code",
      "metadata": {
        "colab": {
          "base_uri": "https://localhost:8080/"
        },
        "id": "E98Pr8AVk1Yl",
        "outputId": "3f27b499-454d-4be4-ffd0-001c6c8af422"
      },
      "source": [
        "print('Training shape X: {} y:{}'.format(X_train.shape, y_train.shape))\n",
        "print('Testing shape X: {} y:{}'.format(X_test.shape, y_test.shape))"
      ],
      "execution_count": 18,
      "outputs": [
        {
          "output_type": "stream",
          "name": "stdout",
          "text": [
            "Training shape X: (5671, 100) y:(5671, 3)\n",
            "Testing shape X: (1418, 100) y:(1418, 3)\n"
          ]
        }
      ]
    },
    {
      "cell_type": "markdown",
      "metadata": {
        "id": "1Nr5UJRRtJaR"
      },
      "source": [
        "#Creating the WordToVector dictionary"
      ]
    },
    {
      "cell_type": "code",
      "metadata": {
        "id": "GMz97Spar0Ve"
      },
      "source": [
        "from utilsfunction import createEmbeddingMatrix\n",
        "\n",
        "embedMatrix, num_of_words = createEmbeddingMatrix(wordIndex)"
      ],
      "execution_count": 19,
      "outputs": []
    },
    {
      "cell_type": "code",
      "metadata": {
        "colab": {
          "base_uri": "https://localhost:8080/"
        },
        "id": "5Aeb4pDSsiQx",
        "outputId": "5295f832-7ce4-4f77-f568-e29aa592cc93"
      },
      "source": [
        "embedMatrix.shape"
      ],
      "execution_count": 23,
      "outputs": [
        {
          "output_type": "execute_result",
          "data": {
            "text/plain": [
              "(10452, 100)"
            ]
          },
          "metadata": {},
          "execution_count": 23
        }
      ]
    },
    {
      "cell_type": "markdown",
      "metadata": {
        "id": "JunXx8SgWrRn"
      },
      "source": [
        "#Creating the Model"
      ]
    },
    {
      "cell_type": "code",
      "metadata": {
        "id": "tbkFviihvXYd"
      },
      "source": [
        "def attentionLayer(hidden_vectors,cnn_vector):\n",
        "  hidden_size = int(hidden_vectors.shape[2])\n",
        "  preActivation = Dense(hidden_size, use_bias=False, activation= \"tanh\")(cnn_vector)\n",
        "  h_t = Lambda(lambda x: x[:, -1, :], output_shape=(hidden_size,), name='last_hidden_state')(hidden_vectors)\n",
        "  score = dot([cnn_vector,h_t], [2, 1])\n",
        "  alphas = Activation('softmax')(score)\n",
        "  contextVector = Dot(axes=[1, 1], name='context_vector')([cnn_vector, alphas])\n",
        "  return contextVector\n"
      ],
      "execution_count": 24,
      "outputs": []
    },
    {
      "cell_type": "code",
      "metadata": {
        "id": "IRX8bHrtP_j5"
      },
      "source": [
        "from tensorflow.keras.layers import Embedding\n",
        "from tensorflow.keras.layers import Input\n",
        "from tensorflow.keras.layers import Dense\n",
        "from tensorflow.keras.layers import GlobalMaxPooling1D, Dropout\n",
        "from tensorflow.keras.layers import LSTM, Bidirectional\n",
        "from tensorflow.keras.layers import Dense, Lambda, Dot, Activation, Concatenate, dot\n",
        "from tensorflow.keras.layers import Conv1D, MaxPooling1D,GlobalMaxPool1D\n",
        "from tensorflow.keras.models import Model\n",
        "from tensorflow.keras.optimizers import  Adam\n",
        "from tensorflow.keras.callbacks import Callback\n",
        "import tensorflow\n",
        "def createModel(num_of_words, max_len, embedMatrix, lstm_units, num_classes):\n",
        "  #creating the embedding layer\n",
        "  embedding_layer = Embedding(input_dim=num_of_words,output_dim=max_len,weights=[embedMatrix],input_length=max_len,trainable=False)\n",
        "  #input_layer\n",
        "  input_layer = Input((max_len,),name='InputLayer')\n",
        "  #embedding layer\n",
        "  embedding_layer = embedding_layer(input_layer)\n",
        "  #bi-directional LSTM layer\n",
        "  lstm = Bidirectional(LSTM(50,return_sequences=True))(embedding_layer)\n",
        "  #dropout layer\n",
        "  drop_lstm = Dropout(0.3)(lstm)\n",
        "  #CNN layers\n",
        "  first_conv_layer = Conv1D(100, 3, activation='relu')(lstm)\n",
        "  first_conv_max_pooling = MaxPooling1D(3)(first_conv_layer)\n",
        "\n",
        "  #attention mechanism\n",
        "  attention = attentionLayer(lstm, first_conv_max_pooling ) \n",
        "  output_layer = Dense(3, use_bias=False, activation='softmax', name='attention_vector')(attention)\n",
        "  model = Model(input_layer,output_layer)\n",
        "  model.compile(\n",
        "          loss='categorical_crossentropy',\n",
        "          optimizer=Adam(learning_rate=0.01),\n",
        "          metrics=['accuracy']\n",
        "              )\n",
        "  return model\n",
        "\n",
        "model = createModel(num_of_words, max_len, embedMatrix, lstm_units=50, num_classes=3)"
      ],
      "execution_count": 27,
      "outputs": []
    },
    {
      "cell_type": "code",
      "metadata": {
        "colab": {
          "base_uri": "https://localhost:8080/"
        },
        "id": "AOQKDxwPXzK0",
        "outputId": "e24015d7-7cef-4b5a-d17a-cbf035537bfe"
      },
      "source": [
        "from tensorflow.keras.callbacks import Callback\n",
        "import tensorflow\n",
        "\n",
        "class MyThresholdCallback(tensorflow.keras.callbacks.Callback):\n",
        "    def __init__(self, threshold):\n",
        "        super(MyThresholdCallback, self).__init__()\n",
        "        self.threshold = threshold\n",
        "\n",
        "    def on_epoch_end(self, epoch, logs=None): \n",
        "        acc = logs[\"accuracy\"]\n",
        "        if acc >= self.threshold:\n",
        "            self.model.stop_training = True\n",
        "\n",
        "\n",
        "callback=MyThresholdCallback(threshold=0.81)\n",
        "r = model.fit(\n",
        "           X_train, y_train,\n",
        "            batch_size=50,\n",
        "            epochs=200,\n",
        "            validation_split=0.2,\n",
        "            callbacks=[callback]  \n",
        "            )"
      ],
      "execution_count": 28,
      "outputs": [
        {
          "output_type": "stream",
          "name": "stdout",
          "text": [
            "Epoch 1/200\n",
            "91/91 [==============================] - 18s 157ms/step - loss: 0.8918 - accuracy: 0.5725 - val_loss: 0.7632 - val_accuracy: 0.6520\n",
            "Epoch 2/200\n",
            "91/91 [==============================] - 13s 144ms/step - loss: 0.6814 - accuracy: 0.7211 - val_loss: 0.6895 - val_accuracy: 0.7004\n",
            "Epoch 3/200\n",
            "91/91 [==============================] - 13s 145ms/step - loss: 0.5851 - accuracy: 0.7639 - val_loss: 0.6971 - val_accuracy: 0.6916\n",
            "Epoch 4/200\n",
            "91/91 [==============================] - 13s 148ms/step - loss: 0.5074 - accuracy: 0.7981 - val_loss: 0.7500 - val_accuracy: 0.7075\n",
            "Epoch 5/200\n",
            "91/91 [==============================] - 13s 140ms/step - loss: 0.4457 - accuracy: 0.8241 - val_loss: 0.8097 - val_accuracy: 0.6934\n"
          ]
        }
      ]
    },
    {
      "cell_type": "code",
      "metadata": {
        "colab": {
          "base_uri": "https://localhost:8080/",
          "height": 545
        },
        "id": "VykAaBF2lsPk",
        "outputId": "da0bbf9f-8aa4-4efe-806c-79b6c824ef48"
      },
      "source": [
        "import matplotlib.pyplot as plt\n",
        "\n",
        "acc = r.history['accuracy']\n",
        "val_acc = r.history['val_accuracy']\n",
        "loss = r.history['loss']\n",
        "val_loss = r.history['val_loss']\n",
        "epochs = range(1, len(acc) + 1)\n",
        "plt.plot(epochs, acc, label='Training acc')\n",
        "plt.plot(epochs, val_acc, label='Validation acc')\n",
        "plt.title('Training and validation accuracy')\n",
        "plt.legend()\n",
        "plt.figure()\n",
        "plt.plot(epochs, loss, label='Training loss')\n",
        "plt.plot(epochs, val_loss,label='Validation loss')\n",
        "plt.title('Training and validation loss')\n",
        "plt.legend()\n",
        "plt.show()"
      ],
      "execution_count": 29,
      "outputs": [
        {
          "output_type": "display_data",
          "data": {
            "image/png": "[encoded data removed]",
            "text/plain": [
              "<Figure size 432x288 with 1 Axes>"
            ]
          },
          "metadata": {
            "needs_background": "light"
          }
        },
        {
          "output_type": "display_data",
          "data": {
            "image/png": "[encoded data removed]",
            "text/plain": [
              "<Figure size 432x288 with 1 Axes>"
            ]
          },
          "metadata": {
            "needs_background": "light"
          }
        }
      ]
    },
    {
      "cell_type": "code",
      "metadata": {
        "id": "qAbo6O8f0RtR"
      },
      "source": [
        "model.save(\"tweetModel.h5\")"
      ],
      "execution_count": 30,
      "outputs": []
    },
    {
      "cell_type": "code",
      "metadata": {
        "id": "vlWLPJfyZ9oh",
        "colab": {
          "base_uri": "https://localhost:8080/"
        },
        "outputId": "778e4ce2-5f7c-42f4-e3f2-642b34691401"
      },
      "source": [
        "pred = model.predict(X_test)\n",
        "pred"
      ],
      "execution_count": 36,
      "outputs": [
        {
          "output_type": "execute_result",
          "data": {
            "text/plain": [
              "array([[0.98191917, 0.01051906, 0.00756174],\n",
              "       [0.01699852, 0.00695681, 0.97604465],\n",
              "       [0.02876944, 0.03995042, 0.93128014],\n",
              "       ...,\n",
              "       [0.00385867, 0.3601306 , 0.6360107 ],\n",
              "       [0.00248227, 0.10664253, 0.89087516],\n",
              "       [0.5373074 , 0.03182727, 0.43086532]], dtype=float32)"
            ]
          },
          "metadata": {},
          "execution_count": 36
        }
      ]
    },
    {
      "cell_type": "code",
      "metadata": {
        "colab": {
          "base_uri": "https://localhost:8080/"
        },
        "id": "5OKT_IJA2i1M",
        "outputId": "258498e5-66a0-436a-c3c4-26a8f87a9f49"
      },
      "source": [
        "y_test"
      ],
      "execution_count": 37,
      "outputs": [
        {
          "output_type": "execute_result",
          "data": {
            "text/plain": [
              "array([[1., 0., 0.],\n",
              "       [0., 0., 1.],\n",
              "       [0., 0., 1.],\n",
              "       ...,\n",
              "       [0., 0., 1.],\n",
              "       [0., 0., 1.],\n",
              "       [0., 0., 1.]], dtype=float32)"
            ]
          },
          "metadata": {},
          "execution_count": 37
        }
      ]
    },
    {
      "cell_type": "markdown",
      "metadata": {
        "id": "0bzmYWQpsc13"
      },
      "source": [
        "#Model evaluation"
      ]
    },
    {
      "cell_type": "code",
      "metadata": {
        "colab": {
          "base_uri": "https://localhost:8080/",
          "height": 602
        },
        "id": "nYIY5IQxqd1d",
        "outputId": "a8810c83-8630-4132-832f-a539959ad472"
      },
      "source": [
        "from modelutility import confusionMatrix\n",
        "confusionMatrix(model, X_test, y_test)"
      ],
      "execution_count": 38,
      "outputs": [
        {
          "output_type": "stream",
          "name": "stdout",
          "text": [
            "Confusion matrix: \n",
            "[[328  20  94]\n",
            " [ 33 293 156]\n",
            " [ 69  46 379]]\n",
            "Prediction Accuracy: \n",
            "Accuracy of Positive class in % : \n",
            "74.2081447963801\n",
            "Accuracy of Negative class in %: \n",
            "60.788381742738586\n",
            "Accuracy of Neutral class in %\n",
            "76.72064777327935\n"
          ]
        },
        {
          "output_type": "display_data",
          "data": {
            "image/png": "[encoded data removed]",
            "text/plain": [
              "<Figure size 576x432 with 2 Axes>"
            ]
          },
          "metadata": {
            "needs_background": "light"
          }
        }
      ]
    },
    {
      "cell_type": "code",
      "metadata": {
        "id": "vNzf_wcw2-V6"
      },
      "source": [
        "txt = ['had a wonderful experience at your airline']\n",
        "from tensorflow.keras.preprocessing.text import Tokenizer\n",
        "from tensorflow.keras.preprocessing.sequence import pad_sequences\n",
        "tok = Tokenizer(num_words = most_common,filters='!\"#$%&()*+,-./:;<=>?@[\\\\]^_`{|}~\\t\\n', lower=True)\n",
        "tok.fit_on_texts(data.text.values)\n",
        "sequences = tok.texts_to_sequences(data.text.values)\n",
        "word_index = tok.word_index\n",
        "X_data = pad_sequences(sequences, maxlen = max_len)\n"
      ],
      "execution_count": 41,
      "outputs": []
    },
    {
      "cell_type": "code",
      "metadata": {
        "colab": {
          "base_uri": "https://localhost:8080/"
        },
        "id": "ysInnmBa40nn",
        "outputId": "240b1dcd-9fe7-4d75-938c-33e70dd9796c"
      },
      "source": [
        "seq = tok.texts_to_sequences(txt)\n",
        "padded = pad_sequences(seq, maxlen=max_len)\n",
        "pred = model.predict(padded)\n",
        "labels = ['positive', 'negative','neutral']\n",
        "print(pred, labels[np.argmax(pred)])"
      ],
      "execution_count": 42,
      "outputs": [
        {
          "output_type": "stream",
          "name": "stdout",
          "text": [
            "[[9.9866843e-01 1.2820998e-03 4.9492010e-05]] positive\n"
          ]
        }
      ]
    },
    {
      "cell_type": "code",
      "metadata": {
        "colab": {
          "base_uri": "https://localhost:8080/"
        },
        "id": "zmoOtWxD5KJn",
        "outputId": "4157647f-03f7-411b-c070-56f378a3585d"
      },
      "source": [
        "txt = ['@VirginAmerica heyyyy guyyyys.. been trying to get through for an hour. can someone call me please? :/']\n",
        "seq = tok.texts_to_sequences(txt)\n",
        "padded = pad_sequences(seq, maxlen=max_len)\n",
        "pred = model.predict(padded)\n",
        "labels = ['positive', 'negative','neutral']\n",
        "print(pred, labels[np.argmax(pred)])"
      ],
      "execution_count": 43,
      "outputs": [
        {
          "output_type": "stream",
          "name": "stdout",
          "text": [
            "[[0.00279338 0.62334037 0.37386626]] negative\n"
          ]
        }
      ]
    },
    {
      "cell_type": "code",
      "metadata": {
        "colab": {
          "base_uri": "https://localhost:8080/"
        },
        "id": "3VBo_3Q15iDA",
        "outputId": "6b0f004d-84bf-4689-d44c-a26230957cd7"
      },
      "source": [
        "txt = ['@JetBlue: @dlewis2412 Sorry! Please ask Inflght if there is an open seat you can move to.” Will do!']\n",
        "seq = tok.texts_to_sequences(txt)\n",
        "padded = pad_sequences(seq, maxlen=max_len)\n",
        "pred = model.predict(padded)\n",
        "labels = ['positive', 'negative','neutral']\n",
        "print(pred, labels[np.argmax(pred)])"
      ],
      "execution_count": 44,
      "outputs": [
        {
          "output_type": "stream",
          "name": "stdout",
          "text": [
            "[[0.0177342  0.06865624 0.9136096 ]] neutral\n"
          ]
        }
      ]
    },
    {
      "cell_type": "markdown",
      "metadata": {
        "id": "635toGSh6AAX"
      },
      "source": [
        "#Load Model"
      ]
    },
    {
      "cell_type": "code",
      "metadata": {
        "id": "aJ-a1ktq5oyU"
      },
      "source": [
        "model2 = tensorflow.keras.models.load_model('tweetModel.h5')"
      ],
      "execution_count": 47,
      "outputs": []
    },
    {
      "cell_type": "code",
      "metadata": {
        "colab": {
          "base_uri": "https://localhost:8080/"
        },
        "id": "cjYi5Uc_6OjA",
        "outputId": "d0e1addc-4407-422d-9fc7-a361c8fea5d2"
      },
      "source": [
        "txt = ['@JetBlue: @dlewis2412 Sorry! Please ask Inflght if there is an open seat you can move to.” Will do!']\n",
        "seq = tok.texts_to_sequences(txt)\n",
        "padded = pad_sequences(seq, maxlen=max_len)\n",
        "pred = model2.predict(padded)\n",
        "labels = ['positive', 'negative','neutral']\n",
        "print(pred, labels[np.argmax(pred)])"
      ],
      "execution_count": 48,
      "outputs": [
        {
          "output_type": "stream",
          "name": "stdout",
          "text": [
            "[[0.0177342  0.06865624 0.9136096 ]] neutral\n"
          ]
        }
      ]
    },
    {
      "cell_type": "code",
      "metadata": {
        "colab": {
          "base_uri": "https://localhost:8080/"
        },
        "id": "iK9FGaka6ZxJ",
        "outputId": "dfb137ab-5bea-4b73-b476-de2926dfbea5"
      },
      "source": [
        "txt = ['@VirginAmerica heyyyy guyyyys.. been trying to get through for an hour. can someone call me please? :/']\n",
        "seq = tok.texts_to_sequences(txt)\n",
        "padded = pad_sequences(seq, maxlen=max_len)\n",
        "pred = model2.predict(padded)\n",
        "labels = ['positive', 'negative','neutral']\n",
        "print(pred, labels[np.argmax(pred)])"
      ],
      "execution_count": 49,
      "outputs": [
        {
          "output_type": "stream",
          "name": "stdout",
          "text": [
            "[[0.00279338 0.62334037 0.37386626]] negative\n"
          ]
        }
      ]
    },
    {
      "cell_type": "code",
      "metadata": {
        "colab": {
          "base_uri": "https://localhost:8080/"
        },
        "id": "MQWP4omN6eEx",
        "outputId": "a4e47401-b18b-4e67-8530-371c0bf7c644"
      },
      "source": [
        "txt = ['had a wonderful experience at your airline']\n",
        "seq = tok.texts_to_sequences(txt)\n",
        "padded = pad_sequences(seq, maxlen=max_len)\n",
        "pred = model.predict(padded)\n",
        "labels = ['positive', 'negative','neutral']\n",
        "print(pred, labels[np.argmax(pred)])"
      ],
      "execution_count": 50,
      "outputs": [
        {
          "output_type": "stream",
          "name": "stdout",
          "text": [
            "[[9.9866843e-01 1.2820998e-03 4.9492010e-05]] positive\n"
          ]
        }
      ]
    },
    {
      "cell_type": "code",
      "metadata": {
        "id": "7n-Wwx6a6mWn"
      },
      "source": [
        ""
      ],
      "execution_count": null,
      "outputs": []
    }
  ]
}